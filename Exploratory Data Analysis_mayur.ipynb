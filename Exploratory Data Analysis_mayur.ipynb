{
 "cells": [
  {
   "cell_type": "markdown",
   "metadata": {},
   "source": [
    "Import required libraries"
   ]
  },
  {
   "cell_type": "code",
   "execution_count": 19,
   "metadata": {},
   "outputs": [],
   "source": [
    "import pandas as pd\n",
    "import os\n",
    "%matplotlib inline"
   ]
  },
  {
   "cell_type": "code",
   "execution_count": 6,
   "metadata": {},
   "outputs": [],
   "source": [
    "DATA = 'data'\n",
    "\n",
    "FILENAMES = [os.path.join(DATA, filename) for filename in os.listdir(DATA)]"
   ]
  },
  {
   "cell_type": "code",
   "execution_count": 7,
   "metadata": {},
   "outputs": [
    {
     "data": {
      "text/plain": [
       "['data/enron_05_17_2015_with_labels_v2_100K_chunk_1_of_6.csv']"
      ]
     },
     "execution_count": 7,
     "metadata": {},
     "output_type": "execute_result"
    }
   ],
   "source": [
    "FILENAMES"
   ]
  },
  {
   "cell_type": "markdown",
   "metadata": {},
   "source": [
    "#### Import dataset"
   ]
  },
  {
   "cell_type": "code",
   "execution_count": 8,
   "metadata": {},
   "outputs": [
    {
     "name": "stderr",
     "output_type": "stream",
     "text": [
      "/usr/local/lib/python3.5/dist-packages/IPython/core/interactiveshell.py:3044: DtypeWarning: Columns (9) have mixed types. Specify dtype option on import or set low_memory=False.\n",
      "  interactivity=interactivity, compiler=compiler, result=result)\n"
     ]
    }
   ],
   "source": [
    "df = pd.read_csv(FILENAMES[0])"
   ]
  },
  {
   "cell_type": "code",
   "execution_count": 9,
   "metadata": {},
   "outputs": [
    {
     "data": {
      "text/html": [
       "<div>\n",
       "<style scoped>\n",
       "    .dataframe tbody tr th:only-of-type {\n",
       "        vertical-align: middle;\n",
       "    }\n",
       "\n",
       "    .dataframe tbody tr th {\n",
       "        vertical-align: top;\n",
       "    }\n",
       "\n",
       "    .dataframe thead th {\n",
       "        text-align: right;\n",
       "    }\n",
       "</style>\n",
       "<table border=\"1\" class=\"dataframe\">\n",
       "  <thead>\n",
       "    <tr style=\"text-align: right;\">\n",
       "      <th></th>\n",
       "      <th>Unnamed: 0</th>\n",
       "      <th>Message-ID</th>\n",
       "      <th>Date</th>\n",
       "      <th>From</th>\n",
       "      <th>To</th>\n",
       "      <th>Subject</th>\n",
       "      <th>X-From</th>\n",
       "      <th>X-To</th>\n",
       "      <th>X-cc</th>\n",
       "      <th>X-bcc</th>\n",
       "      <th>...</th>\n",
       "      <th>Cat_10_level_1</th>\n",
       "      <th>Cat_10_level_2</th>\n",
       "      <th>Cat_10_weight</th>\n",
       "      <th>Cat_11_level_1</th>\n",
       "      <th>Cat_11_level_2</th>\n",
       "      <th>Cat_11_weight</th>\n",
       "      <th>Cat_12_level_1</th>\n",
       "      <th>Cat_12_level_2</th>\n",
       "      <th>Cat_12_weight</th>\n",
       "      <th>labeled</th>\n",
       "    </tr>\n",
       "  </thead>\n",
       "  <tbody>\n",
       "    <tr>\n",
       "      <th>0</th>\n",
       "      <td>0</td>\n",
       "      <td>&lt;18782981.1075855378110.JavaMail.evans@thyme&gt;</td>\n",
       "      <td>2001-05-14 23:39:00</td>\n",
       "      <td>frozenset({'phillip.allen@enron.com'})</td>\n",
       "      <td>frozenset({'tim.belden@enron.com'})</td>\n",
       "      <td>NaN</td>\n",
       "      <td>Phillip K Allen</td>\n",
       "      <td>Tim Belden &lt;Tim Belden/Enron@EnronXGate&gt;</td>\n",
       "      <td>NaN</td>\n",
       "      <td>NaN</td>\n",
       "      <td>...</td>\n",
       "      <td>NaN</td>\n",
       "      <td>NaN</td>\n",
       "      <td>NaN</td>\n",
       "      <td>NaN</td>\n",
       "      <td>NaN</td>\n",
       "      <td>NaN</td>\n",
       "      <td>NaN</td>\n",
       "      <td>NaN</td>\n",
       "      <td>NaN</td>\n",
       "      <td>False</td>\n",
       "    </tr>\n",
       "    <tr>\n",
       "      <th>1</th>\n",
       "      <td>1</td>\n",
       "      <td>&lt;15464986.1075855378456.JavaMail.evans@thyme&gt;</td>\n",
       "      <td>2001-05-04 20:51:00</td>\n",
       "      <td>frozenset({'phillip.allen@enron.com'})</td>\n",
       "      <td>frozenset({'john.lavorato@enron.com'})</td>\n",
       "      <td>Re:</td>\n",
       "      <td>Phillip K Allen</td>\n",
       "      <td>John J Lavorato &lt;John J Lavorato/ENRON@enronXg...</td>\n",
       "      <td>NaN</td>\n",
       "      <td>NaN</td>\n",
       "      <td>...</td>\n",
       "      <td>NaN</td>\n",
       "      <td>NaN</td>\n",
       "      <td>NaN</td>\n",
       "      <td>NaN</td>\n",
       "      <td>NaN</td>\n",
       "      <td>NaN</td>\n",
       "      <td>NaN</td>\n",
       "      <td>NaN</td>\n",
       "      <td>NaN</td>\n",
       "      <td>False</td>\n",
       "    </tr>\n",
       "    <tr>\n",
       "      <th>2</th>\n",
       "      <td>2</td>\n",
       "      <td>&lt;24216240.1075855687451.JavaMail.evans@thyme&gt;</td>\n",
       "      <td>2000-10-18 10:00:00</td>\n",
       "      <td>frozenset({'phillip.allen@enron.com'})</td>\n",
       "      <td>frozenset({'leah.arsdall@enron.com'})</td>\n",
       "      <td>Re: test</td>\n",
       "      <td>Phillip K Allen</td>\n",
       "      <td>Leah Van Arsdall</td>\n",
       "      <td>NaN</td>\n",
       "      <td>NaN</td>\n",
       "      <td>...</td>\n",
       "      <td>NaN</td>\n",
       "      <td>NaN</td>\n",
       "      <td>NaN</td>\n",
       "      <td>NaN</td>\n",
       "      <td>NaN</td>\n",
       "      <td>NaN</td>\n",
       "      <td>NaN</td>\n",
       "      <td>NaN</td>\n",
       "      <td>NaN</td>\n",
       "      <td>False</td>\n",
       "    </tr>\n",
       "    <tr>\n",
       "      <th>3</th>\n",
       "      <td>3</td>\n",
       "      <td>&lt;13505866.1075863688222.JavaMail.evans@thyme&gt;</td>\n",
       "      <td>2000-10-23 13:13:00</td>\n",
       "      <td>frozenset({'phillip.allen@enron.com'})</td>\n",
       "      <td>frozenset({'randall.gay@enron.com'})</td>\n",
       "      <td>NaN</td>\n",
       "      <td>Phillip K Allen</td>\n",
       "      <td>Randall L Gay</td>\n",
       "      <td>NaN</td>\n",
       "      <td>NaN</td>\n",
       "      <td>...</td>\n",
       "      <td>NaN</td>\n",
       "      <td>NaN</td>\n",
       "      <td>NaN</td>\n",
       "      <td>NaN</td>\n",
       "      <td>NaN</td>\n",
       "      <td>NaN</td>\n",
       "      <td>NaN</td>\n",
       "      <td>NaN</td>\n",
       "      <td>NaN</td>\n",
       "      <td>False</td>\n",
       "    </tr>\n",
       "    <tr>\n",
       "      <th>4</th>\n",
       "      <td>4</td>\n",
       "      <td>&lt;30922949.1075863688243.JavaMail.evans@thyme&gt;</td>\n",
       "      <td>2000-08-31 12:07:00</td>\n",
       "      <td>frozenset({'phillip.allen@enron.com'})</td>\n",
       "      <td>frozenset({'greg.piper@enron.com'})</td>\n",
       "      <td>Re: Hello</td>\n",
       "      <td>Phillip K Allen</td>\n",
       "      <td>Greg Piper</td>\n",
       "      <td>NaN</td>\n",
       "      <td>NaN</td>\n",
       "      <td>...</td>\n",
       "      <td>NaN</td>\n",
       "      <td>NaN</td>\n",
       "      <td>NaN</td>\n",
       "      <td>NaN</td>\n",
       "      <td>NaN</td>\n",
       "      <td>NaN</td>\n",
       "      <td>NaN</td>\n",
       "      <td>NaN</td>\n",
       "      <td>NaN</td>\n",
       "      <td>False</td>\n",
       "    </tr>\n",
       "  </tbody>\n",
       "</table>\n",
       "<p>5 rows × 52 columns</p>\n",
       "</div>"
      ],
      "text/plain": [
       "   Unnamed: 0                                     Message-ID  \\\n",
       "0           0  <18782981.1075855378110.JavaMail.evans@thyme>   \n",
       "1           1  <15464986.1075855378456.JavaMail.evans@thyme>   \n",
       "2           2  <24216240.1075855687451.JavaMail.evans@thyme>   \n",
       "3           3  <13505866.1075863688222.JavaMail.evans@thyme>   \n",
       "4           4  <30922949.1075863688243.JavaMail.evans@thyme>   \n",
       "\n",
       "                  Date                                    From  \\\n",
       "0  2001-05-14 23:39:00  frozenset({'phillip.allen@enron.com'})   \n",
       "1  2001-05-04 20:51:00  frozenset({'phillip.allen@enron.com'})   \n",
       "2  2000-10-18 10:00:00  frozenset({'phillip.allen@enron.com'})   \n",
       "3  2000-10-23 13:13:00  frozenset({'phillip.allen@enron.com'})   \n",
       "4  2000-08-31 12:07:00  frozenset({'phillip.allen@enron.com'})   \n",
       "\n",
       "                                       To    Subject           X-From  \\\n",
       "0     frozenset({'tim.belden@enron.com'})        NaN  Phillip K Allen   \n",
       "1  frozenset({'john.lavorato@enron.com'})        Re:  Phillip K Allen   \n",
       "2   frozenset({'leah.arsdall@enron.com'})   Re: test  Phillip K Allen   \n",
       "3    frozenset({'randall.gay@enron.com'})        NaN  Phillip K Allen   \n",
       "4     frozenset({'greg.piper@enron.com'})  Re: Hello  Phillip K Allen   \n",
       "\n",
       "                                                X-To X-cc X-bcc  ...  \\\n",
       "0           Tim Belden <Tim Belden/Enron@EnronXGate>  NaN   NaN  ...   \n",
       "1  John J Lavorato <John J Lavorato/ENRON@enronXg...  NaN   NaN  ...   \n",
       "2                                   Leah Van Arsdall  NaN   NaN  ...   \n",
       "3                                      Randall L Gay  NaN   NaN  ...   \n",
       "4                                         Greg Piper  NaN   NaN  ...   \n",
       "\n",
       "  Cat_10_level_1 Cat_10_level_2 Cat_10_weight Cat_11_level_1 Cat_11_level_2  \\\n",
       "0            NaN            NaN           NaN            NaN            NaN   \n",
       "1            NaN            NaN           NaN            NaN            NaN   \n",
       "2            NaN            NaN           NaN            NaN            NaN   \n",
       "3            NaN            NaN           NaN            NaN            NaN   \n",
       "4            NaN            NaN           NaN            NaN            NaN   \n",
       "\n",
       "   Cat_11_weight  Cat_12_level_1  Cat_12_level_2  Cat_12_weight  labeled  \n",
       "0            NaN             NaN             NaN            NaN    False  \n",
       "1            NaN             NaN             NaN            NaN    False  \n",
       "2            NaN             NaN             NaN            NaN    False  \n",
       "3            NaN             NaN             NaN            NaN    False  \n",
       "4            NaN             NaN             NaN            NaN    False  \n",
       "\n",
       "[5 rows x 52 columns]"
      ]
     },
     "execution_count": 9,
     "metadata": {},
     "output_type": "execute_result"
    }
   ],
   "source": [
    "df.head()"
   ]
  },
  {
   "cell_type": "code",
   "execution_count": 16,
   "metadata": {},
   "outputs": [
    {
     "name": "stdout",
     "output_type": "stream",
     "text": [
      "<class 'pandas.core.frame.DataFrame'>\n",
      "RangeIndex: 100000 entries, 0 to 99999\n",
      "Data columns (total 52 columns):\n",
      "Unnamed: 0        100000 non-null int64\n",
      "Message-ID        100000 non-null object\n",
      "Date              100000 non-null object\n",
      "From              100000 non-null object\n",
      "To                94999 non-null object\n",
      "Subject           94636 non-null object\n",
      "X-From            99994 non-null object\n",
      "X-To              97400 non-null object\n",
      "X-cc              21747 non-null object\n",
      "X-bcc             34 non-null object\n",
      "X-Folder          99994 non-null object\n",
      "X-Origin          99994 non-null object\n",
      "X-FileName        99271 non-null object\n",
      "content           99598 non-null object\n",
      "user              100000 non-null object\n",
      "Cat_1_level_1     210 non-null float64\n",
      "Cat_1_level_2     210 non-null float64\n",
      "Cat_1_weight      210 non-null float64\n",
      "Cat_2_level_1     200 non-null float64\n",
      "Cat_2_level_2     200 non-null float64\n",
      "Cat_2_weight      200 non-null float64\n",
      "Cat_3_level_1     166 non-null float64\n",
      "Cat_3_level_2     166 non-null float64\n",
      "Cat_3_weight      166 non-null float64\n",
      "Cat_4_level_1     104 non-null float64\n",
      "Cat_4_level_2     104 non-null float64\n",
      "Cat_4_weight      104 non-null float64\n",
      "Cat_5_level_1     57 non-null float64\n",
      "Cat_5_level_2     57 non-null float64\n",
      "Cat_5_weight      57 non-null float64\n",
      "Cat_6_level_1     21 non-null float64\n",
      "Cat_6_level_2     21 non-null float64\n",
      "Cat_6_weight      21 non-null float64\n",
      "Cat_7_level_1     10 non-null float64\n",
      "Cat_7_level_2     10 non-null float64\n",
      "Cat_7_weight      10 non-null float64\n",
      "Cat_8_level_1     2 non-null float64\n",
      "Cat_8_level_2     2 non-null float64\n",
      "Cat_8_weight      2 non-null float64\n",
      "Cat_9_level_1     1 non-null float64\n",
      "Cat_9_level_2     1 non-null float64\n",
      "Cat_9_weight      1 non-null float64\n",
      "Cat_10_level_1    1 non-null float64\n",
      "Cat_10_level_2    1 non-null float64\n",
      "Cat_10_weight     1 non-null float64\n",
      "Cat_11_level_1    0 non-null float64\n",
      "Cat_11_level_2    0 non-null float64\n",
      "Cat_11_weight     0 non-null float64\n",
      "Cat_12_level_1    0 non-null float64\n",
      "Cat_12_level_2    0 non-null float64\n",
      "Cat_12_weight     0 non-null float64\n",
      "labeled           100000 non-null bool\n",
      "dtypes: bool(1), float64(36), int64(1), object(14)\n",
      "memory usage: 39.0+ MB\n"
     ]
    }
   ],
   "source": [
    "df.info()"
   ]
  },
  {
   "cell_type": "code",
   "execution_count": 11,
   "metadata": {},
   "outputs": [
    {
     "data": {
      "text/plain": [
       "'1980-01-01 00:00:00'"
      ]
     },
     "execution_count": 11,
     "metadata": {},
     "output_type": "execute_result"
    }
   ],
   "source": [
    "df['Date'].min()"
   ]
  },
  {
   "cell_type": "code",
   "execution_count": 12,
   "metadata": {},
   "outputs": [
    {
     "data": {
      "text/plain": [
       "'2020-12-29 20:53:46'"
      ]
     },
     "execution_count": 12,
     "metadata": {},
     "output_type": "execute_result"
    }
   ],
   "source": [
    "df['Date'].max()"
   ]
  },
  {
   "cell_type": "code",
   "execution_count": 23,
   "metadata": {},
   "outputs": [
    {
     "data": {
      "text/plain": [
       "array(['2001-05-14 23:39:00', '2001-05-04 20:51:00',\n",
       "       '2000-10-18 10:00:00', ..., '1999-12-22 07:02:00',\n",
       "       '1999-12-22 06:52:00', '1999-12-20 16:05:00'], dtype=object)"
      ]
     },
     "execution_count": 23,
     "metadata": {},
     "output_type": "execute_result"
    }
   ],
   "source": [
    "df['Date'].unique()"
   ]
  },
  {
   "cell_type": "code",
   "execution_count": 24,
   "metadata": {},
   "outputs": [],
   "source": [
    "#determine howmany emails done in specic year and plot that data"
   ]
  },
  {
   "cell_type": "code",
   "execution_count": 30,
   "metadata": {},
   "outputs": [
    {
     "data": {
      "text/plain": [
       "0          NaN\n",
       "1          Re:\n",
       "2     Re: test\n",
       "3          NaN\n",
       "4    Re: Hello\n",
       "Name: Subject, dtype: object"
      ]
     },
     "execution_count": 30,
     "metadata": {},
     "output_type": "execute_result"
    }
   ],
   "source": [
    "df['Subject'].head()"
   ]
  },
  {
   "cell_type": "code",
   "execution_count": 39,
   "metadata": {},
   "outputs": [
    {
     "data": {
      "text/plain": [
       "0     True\n",
       "1    False\n",
       "2    False\n",
       "3     True\n",
       "4    False\n",
       "Name: Subject, dtype: bool"
      ]
     },
     "execution_count": 39,
     "metadata": {},
     "output_type": "execute_result"
    }
   ],
   "source": [
    "pd.isna(df['Subject']).head()"
   ]
  },
  {
   "cell_type": "code",
   "execution_count": 45,
   "metadata": {},
   "outputs": [
    {
     "data": {
      "text/plain": [
       "(5364, 52)"
      ]
     },
     "execution_count": 45,
     "metadata": {},
     "output_type": "execute_result"
    }
   ],
   "source": [
    "NanSubjectDF = df[pd.isna(df['Subject'])]\n",
    "NanSubjectDF.shape"
   ]
  },
  {
   "cell_type": "code",
   "execution_count": 46,
   "metadata": {},
   "outputs": [
    {
     "data": {
      "text/plain": [
       "(94636, 52)"
      ]
     },
     "execution_count": 46,
     "metadata": {},
     "output_type": "execute_result"
    }
   ],
   "source": [
    "NotNanSubjectDF = df[pd.notna(df['Subject'])]\n",
    "NotNanSubjectDF.shape"
   ]
  },
  {
   "cell_type": "code",
   "execution_count": null,
   "metadata": {},
   "outputs": [],
   "source": []
  }
 ],
 "metadata": {
  "kernelspec": {
   "display_name": "Python 3",
   "language": "python",
   "name": "python3"
  },
  "language_info": {
   "codemirror_mode": {
    "name": "ipython",
    "version": 3
   },
   "file_extension": ".py",
   "mimetype": "text/x-python",
   "name": "python",
   "nbconvert_exporter": "python",
   "pygments_lexer": "ipython3",
   "version": "3.5.2"
  }
 },
 "nbformat": 4,
 "nbformat_minor": 2
}
