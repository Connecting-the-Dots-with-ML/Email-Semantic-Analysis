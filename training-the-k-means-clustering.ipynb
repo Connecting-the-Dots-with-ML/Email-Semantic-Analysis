{
 "cells": [
  {
   "cell_type": "code",
   "execution_count": 4,
   "metadata": {
    "trusted": true
   },
   "outputs": [
    {
     "name": "stdout",
     "output_type": "stream",
     "text": [
      "NLTK (DOWNLOAD ALL PACKAGES TO PERFORM NLP OPERATION)\nUNCOMMENT FOLLOWING LINE To GET NLTK DOWNLOADED\n"
     ]
    }
   ],
   "source": [
    "import pandas as pd\n",
    "import os\n",
    "import string\n",
    "import re\n",
    "import numpy as np\n",
    "from nltk.stem import WordNetLemmatizer\n",
    "import nltk\n",
    "import pickle\n",
    "print('NLTK (DOWNLOAD ALL PACKAGES TO PERFORM NLP OPERATION)')\n",
    "\n",
    "print('UNCOMMENT FOLLOWING LINE To GET NLTK DOWNLOADED')\n",
    "# nltk.download('all')\n",
    "stopword = nltk.corpus.stopwords.words('english')\n",
    "wordnet_lemmatizer = WordNetLemmatizer()\n"
   ]
  },
  {
   "cell_type": "code",
   "execution_count": 2,
   "metadata": {
    "trusted": true
   },
   "outputs": [
    {
     "name": "stdout",
     "output_type": "stream",
     "text": [
      "--2020-08-26 10:19:46--  http://7c4292c7e0ca.ngrok.io/data.zip\nResolving 7c4292c7e0ca.ngrok.io (7c4292c7e0ca.ngrok.io)... 3.13.191.225, 2600:1f16:d83:1201::6e:1\nConnecting to 7c4292c7e0ca.ngrok.io (7c4292c7e0ca.ngrok.io)|3.13.191.225|:80... connected.\nHTTP request sent, awaiting response... 200 OK\nLength: 94790330 (90M) [application/zip]\nSaving to: ‘data.zip’\n\ndata.zip            100%[===================>]  90.40M   457KB/s    in 2m 43s  \n\n2020-08-26 10:22:31 (568 KB/s) - ‘data.zip’ saved [94790330/94790330]\n\n"
     ]
    }
   ],
   "source": [
    "!wget http://7c4292c7e0ca.ngrok.io/data.zip"
   ]
  },
  {
   "cell_type": "code",
   "execution_count": 5,
   "metadata": {
    "trusted": true
   },
   "outputs": [
    {
     "name": "stdout",
     "output_type": "stream",
     "text": [
      "Archive:  data.zip\n   creating: data/\n  inflating: data/enron_05_17_2015_with_labels_v2_100K_chunk_1_of_6.csv  \n  inflating: tfidf_content.pickle    \n  inflating: tfidf_subject.pickle    \n"
     ]
    }
   ],
   "source": [
    "!unzip data.zip"
   ]
  },
  {
   "cell_type": "code",
   "execution_count": 6,
   "metadata": {
    "trusted": true
   },
   "outputs": [],
   "source": [
    "def preprocess(df):\n",
    "    \n",
    "    df = df[df.columns.drop(list(df.filter(regex='^Cat')))]\n",
    "    df = df[df['Date'] != '27/06/2001']  #removing the date\n",
    "    df = df[(df['Subject'] != 'RE:') & (df['Subject'] != 'FW:') & (df['Subject'] != 'Re:')]  #removing the max same subjects\n",
    "    del df['Unnamed: 0']\n",
    "    return df"
   ]
  },
  {
   "cell_type": "code",
   "execution_count": 7,
   "metadata": {
    "trusted": true
   },
   "outputs": [],
   "source": [
    "stopword.append('re')\n",
    "stopword.append('fw')"
   ]
  },
  {
   "cell_type": "code",
   "execution_count": 8,
   "metadata": {
    "trusted": true
   },
   "outputs": [],
   "source": [
    "def clean_text(text):\n",
    "    text_nopunct = \"\".join([char for char in text.lower() if char not in string.punctuation])\n",
    "    tokens = re.split('\\W+', text_nopunct) #tokenize\n",
    "    words_without_stopwords = [word for word in tokens if word not in stopword] #remove stopwords from tokens\n",
    "    return [wordnet_lemmatizer.lemmatize(word, pos=\"v\") for word in words_without_stopwords]"
   ]
  },
  {
   "cell_type": "code",
   "execution_count": 9,
   "metadata": {
    "trusted": true
   },
   "outputs": [
    {
     "name": "stderr",
     "output_type": "stream",
     "text": [
      "/opt/conda/lib/python3.7/site-packages/IPython/core/interactiveshell.py:3063: DtypeWarning: Columns (9) have mixed types.Specify dtype option on import or set low_memory=False.\n  interactivity=interactivity, compiler=compiler, result=result)\n"
     ]
    }
   ],
   "source": [
    "DATA = 'data' #https://data.world/brianray/enron-email-dataset\n",
    "\n",
    "FILENAMES = [os.path.join(DATA, filename) for filename in os.listdir(DATA)]\n",
    "df = pd.read_csv('data/enron_05_17_2015_with_labels_v2_100K_chunk_1_of_6.csv')\n",
    "df = preprocess(df)"
   ]
  },
  {
   "cell_type": "code",
   "execution_count": 10,
   "metadata": {
    "trusted": true
   },
   "outputs": [
    {
     "data": {
      "text/plain": [
       "(0, 15)"
      ]
     },
     "execution_count": 10,
     "metadata": {},
     "output_type": "execute_result"
    }
   ],
   "source": [
    "df = df[df['Subject'].notna()]\n",
    "df = df[df['content'].notna()]\n",
    "df[df['content'].isna()].shape"
   ]
  },
  {
   "cell_type": "code",
   "execution_count": 11,
   "metadata": {
    "trusted": true
   },
   "outputs": [
    {
     "data": {
      "text/html": [
       "<div>\n<style scoped>\n    .dataframe tbody tr th:only-of-type {\n        vertical-align: middle;\n    }\n\n    .dataframe tbody tr th {\n        vertical-align: top;\n    }\n\n    .dataframe thead th {\n        text-align: right;\n    }\n</style>\n<table border=\"1\" class=\"dataframe\">\n  <thead>\n    <tr style=\"text-align: right;\">\n      <th></th>\n      <th>Subject</th>\n      <th>content</th>\n    </tr>\n  </thead>\n  <tbody>\n    <tr>\n      <th>2</th>\n      <td>Re: test</td>\n      <td>test successful. way to go!!!</td>\n    </tr>\n    <tr>\n      <th>4</th>\n      <td>Re: Hello</td>\n      <td>Let's shoot for Tuesday at 11:45.</td>\n    </tr>\n    <tr>\n      <th>5</th>\n      <td>Re: Hello</td>\n      <td>Greg, How about either next Tuesday or Thursda...</td>\n    </tr>\n    <tr>\n      <th>7</th>\n      <td>Re: PRC review - phone calls</td>\n      <td>any morning between 10 and 11:30</td>\n    </tr>\n    <tr>\n      <th>8</th>\n      <td>Re: High Speed Internet Access</td>\n      <td>1. login: pallen pw: ke9davis I don't think th...</td>\n    </tr>\n  </tbody>\n</table>\n</div>"
      ],
      "text/plain": [
       "                          Subject  \\\n2                        Re: test   \n4                       Re: Hello   \n5                       Re: Hello   \n7    Re: PRC review - phone calls   \n8  Re: High Speed Internet Access   \n\n                                             content  \n2                      test successful. way to go!!!  \n4                  Let's shoot for Tuesday at 11:45.  \n5  Greg, How about either next Tuesday or Thursda...  \n7                   any morning between 10 and 11:30  \n8  1. login: pallen pw: ke9davis I don't think th...  "
      ]
     },
     "execution_count": 11,
     "metadata": {},
     "output_type": "execute_result"
    }
   ],
   "source": [
    "\n",
    "dfEmail = df[['Subject', 'content']]\n",
    "dfEmail.head()"
   ]
  },
  {
   "cell_type": "code",
   "execution_count": 12,
   "metadata": {
    "trusted": true
   },
   "outputs": [
    {
     "name": "stderr",
     "output_type": "stream",
     "text": [
      "/opt/conda/lib/python3.7/site-packages/sklearn/base.py:334: UserWarning: Trying to unpickle estimator TfidfTransformer from version 0.20.3 when using version 0.23.2. This might lead to breaking code or invalid results. Use at your own risk.\n  UserWarning)\n"
     ]
    },
    {
     "name": "stdout",
     "output_type": "stream",
     "text": [
      "Vectorizer Loaded!!\n"
     ]
    },
    {
     "name": "stderr",
     "output_type": "stream",
     "text": [
      "/opt/conda/lib/python3.7/site-packages/sklearn/base.py:334: UserWarning: Trying to unpickle estimator TfidfVectorizer from version 0.20.3 when using version 0.23.2. This might lead to breaking code or invalid results. Use at your own risk.\n  UserWarning)\n"
     ]
    }
   ],
   "source": [
    "content_vecotrizer = pickle.load(open('tfidf_content.pickle', \"rb\"))\n",
    "subject_vecotrizer = pickle.load(open('tfidf_subject.pickle', \"rb\"))\n",
    "print('Vectorizer Loaded!!')"
   ]
  },
  {
   "cell_type": "code",
   "execution_count": 13,
   "metadata": {
    "trusted": true
   },
   "outputs": [],
   "source": [
    "subject_matrix = subject_vecotrizer.transform(df['Subject'])"
   ]
  },
  {
   "cell_type": "code",
   "execution_count": 14,
   "metadata": {
    "trusted": true
   },
   "outputs": [],
   "source": [
    "dfSubject = pd.DataFrame(subject_matrix.toarray(), columns=subject_vecotrizer.get_feature_names())"
   ]
  },
  {
   "cell_type": "code",
   "execution_count": 15,
   "metadata": {
    "trusted": true
   },
   "outputs": [
    {
     "data": {
      "text/html": [
       "<div>\n<style scoped>\n    .dataframe tbody tr th:only-of-type {\n        vertical-align: middle;\n    }\n\n    .dataframe tbody tr th {\n        vertical-align: top;\n    }\n\n    .dataframe thead th {\n        text-align: right;\n    }\n</style>\n<table border=\"1\" class=\"dataframe\">\n  <thead>\n    <tr style=\"text-align: right;\">\n      <th></th>\n      <th></th>\n      <th>0</th>\n      <th>00</th>\n      <th>000</th>\n      <th>00000000000000000000000000000000000weil</th>\n      <th>000000000055936</th>\n      <th>000000000078904</th>\n      <th>0000105674</th>\n      <th>0000108727</th>\n      <th>0000110257</th>\n      <th>...</th>\n      <th>zipter</th>\n      <th>zombie</th>\n      <th>zonal</th>\n      <th>zone</th>\n      <th>zooey</th>\n      <th>zoomerang</th>\n      <th>zpro</th>\n      <th>zulie</th>\n      <th>zycher</th>\n      <th>zykorie</th>\n    </tr>\n  </thead>\n  <tbody>\n    <tr>\n      <th>0</th>\n      <td>0.0</td>\n      <td>0.0</td>\n      <td>0.0</td>\n      <td>0.0</td>\n      <td>0.0</td>\n      <td>0.0</td>\n      <td>0.0</td>\n      <td>0.0</td>\n      <td>0.0</td>\n      <td>0.0</td>\n      <td>...</td>\n      <td>0.0</td>\n      <td>0.0</td>\n      <td>0.0</td>\n      <td>0.0</td>\n      <td>0.0</td>\n      <td>0.0</td>\n      <td>0.0</td>\n      <td>0.0</td>\n      <td>0.0</td>\n      <td>0.0</td>\n    </tr>\n    <tr>\n      <th>1</th>\n      <td>0.0</td>\n      <td>0.0</td>\n      <td>0.0</td>\n      <td>0.0</td>\n      <td>0.0</td>\n      <td>0.0</td>\n      <td>0.0</td>\n      <td>0.0</td>\n      <td>0.0</td>\n      <td>0.0</td>\n      <td>...</td>\n      <td>0.0</td>\n      <td>0.0</td>\n      <td>0.0</td>\n      <td>0.0</td>\n      <td>0.0</td>\n      <td>0.0</td>\n      <td>0.0</td>\n      <td>0.0</td>\n      <td>0.0</td>\n      <td>0.0</td>\n    </tr>\n    <tr>\n      <th>2</th>\n      <td>0.0</td>\n      <td>0.0</td>\n      <td>0.0</td>\n      <td>0.0</td>\n      <td>0.0</td>\n      <td>0.0</td>\n      <td>0.0</td>\n      <td>0.0</td>\n      <td>0.0</td>\n      <td>0.0</td>\n      <td>...</td>\n      <td>0.0</td>\n      <td>0.0</td>\n      <td>0.0</td>\n      <td>0.0</td>\n      <td>0.0</td>\n      <td>0.0</td>\n      <td>0.0</td>\n      <td>0.0</td>\n      <td>0.0</td>\n      <td>0.0</td>\n    </tr>\n    <tr>\n      <th>3</th>\n      <td>0.0</td>\n      <td>0.0</td>\n      <td>0.0</td>\n      <td>0.0</td>\n      <td>0.0</td>\n      <td>0.0</td>\n      <td>0.0</td>\n      <td>0.0</td>\n      <td>0.0</td>\n      <td>0.0</td>\n      <td>...</td>\n      <td>0.0</td>\n      <td>0.0</td>\n      <td>0.0</td>\n      <td>0.0</td>\n      <td>0.0</td>\n      <td>0.0</td>\n      <td>0.0</td>\n      <td>0.0</td>\n      <td>0.0</td>\n      <td>0.0</td>\n    </tr>\n    <tr>\n      <th>4</th>\n      <td>0.0</td>\n      <td>0.0</td>\n      <td>0.0</td>\n      <td>0.0</td>\n      <td>0.0</td>\n      <td>0.0</td>\n      <td>0.0</td>\n      <td>0.0</td>\n      <td>0.0</td>\n      <td>0.0</td>\n      <td>...</td>\n      <td>0.0</td>\n      <td>0.0</td>\n      <td>0.0</td>\n      <td>0.0</td>\n      <td>0.0</td>\n      <td>0.0</td>\n      <td>0.0</td>\n      <td>0.0</td>\n      <td>0.0</td>\n      <td>0.0</td>\n    </tr>\n  </tbody>\n</table>\n<p>5 rows × 18001 columns</p>\n</div>"
      ],
      "text/plain": [
       "          0   00  000  00000000000000000000000000000000000weil  \\\n0  0.0  0.0  0.0  0.0                                      0.0   \n1  0.0  0.0  0.0  0.0                                      0.0   \n2  0.0  0.0  0.0  0.0                                      0.0   \n3  0.0  0.0  0.0  0.0                                      0.0   \n4  0.0  0.0  0.0  0.0                                      0.0   \n\n   000000000055936  000000000078904  0000105674  0000108727  0000110257  ...  \\\n0              0.0              0.0         0.0         0.0         0.0  ...   \n1              0.0              0.0         0.0         0.0         0.0  ...   \n2              0.0              0.0         0.0         0.0         0.0  ...   \n3              0.0              0.0         0.0         0.0         0.0  ...   \n4              0.0              0.0         0.0         0.0         0.0  ...   \n\n   zipter  zombie  zonal  zone  zooey  zoomerang  zpro  zulie  zycher  zykorie  \n0     0.0     0.0    0.0   0.0    0.0        0.0   0.0    0.0     0.0      0.0  \n1     0.0     0.0    0.0   0.0    0.0        0.0   0.0    0.0     0.0      0.0  \n2     0.0     0.0    0.0   0.0    0.0        0.0   0.0    0.0     0.0      0.0  \n3     0.0     0.0    0.0   0.0    0.0        0.0   0.0    0.0     0.0      0.0  \n4     0.0     0.0    0.0   0.0    0.0        0.0   0.0    0.0     0.0      0.0  \n\n[5 rows x 18001 columns]"
      ]
     },
     "execution_count": 15,
     "metadata": {},
     "output_type": "execute_result"
    }
   ],
   "source": [
    "dfSubject.head()"
   ]
  },
  {
   "cell_type": "code",
   "execution_count": 16,
   "metadata": {
    "trusted": true
   },
   "outputs": [],
   "source": [
    "content_matrix = content_vecotrizer.transform(df['content'])"
   ]
  },
  {
   "cell_type": "markdown",
   "metadata": {},
   "source": [
    "combine **subject** and **content** tfidf matrix"
   ]
  },
  {
   "cell_type": "code",
   "execution_count": 18,
   "metadata": {
    "trusted": true
   },
   "outputs": [
    {
     "data": {
      "text/plain": [
       "scipy.sparse.csr.csr_matrix"
      ]
     },
     "execution_count": 18,
     "metadata": {},
     "output_type": "execute_result"
    }
   ],
   "source": [
    "type(content_matrix)"
   ]
  },
  {
   "cell_type": "code",
   "execution_count": 19,
   "metadata": {
    "trusted": true
   },
   "outputs": [
    {
     "name": "stdout",
     "output_type": "stream",
     "text": [
      "a\n[[1 2 3]\n [4 5 6]]\nb\n[[ 7  8  9]\n [10 11 12]]\nc\n[[ 1  2  3  7  8  9]\n [ 4  5  6 10 11 12]]\n"
     ]
    }
   ],
   "source": [
    "import scipy.sparse as sp\n",
    "\n",
    "a = sp.csr_matrix([[1,2,3],[4,5,6]])\n",
    "print(\"a\")\n",
    "print(a.toarray())\n",
    "print(\"b\")\n",
    "b = sp.csr_matrix([[7,8,9],[10,11,12]])\n",
    "print(b.toarray())\n",
    "print(\"c\")\n",
    "c = sp.hstack((a,b))  # NOT np.vstack\n",
    "print(c.toarray())\n"
   ]
  },
  {
   "cell_type": "code",
   "execution_count": 20,
   "metadata": {
    "trusted": true
   },
   "outputs": [],
   "source": [
    "matrix =  sp.hstack((subject_matrix,content_matrix))"
   ]
  },
  {
   "cell_type": "code",
   "execution_count": 21,
   "metadata": {
    "trusted": true
   },
   "outputs": [],
   "source": [
    "#Use KMeans clustering from scikit-learn\n",
    "from sklearn.cluster import KMeans\n",
    "from scipy.spatial.distance import cdist \n"
   ]
  },
  {
   "cell_type": "code",
   "execution_count": 22,
   "metadata": {
    "trusted": true
   },
   "outputs": [
    {
     "name": "stderr",
     "output_type": "stream",
     "text": [
      "/opt/conda/lib/python3.7/site-packages/sklearn/cluster/_kmeans.py:939: FutureWarning: 'n_jobs' was deprecated in version 0.23 and will be removed in 0.25.\n  \" removed in 0.25.\", FutureWarning)\n"
     ]
    },
    {
     "name": "stdout",
     "output_type": "stream",
     "text": [
      "5processed\n"
     ]
    },
    {
     "name": "stderr",
     "output_type": "stream",
     "text": [
      "/opt/conda/lib/python3.7/site-packages/sklearn/cluster/_kmeans.py:939: FutureWarning: 'n_jobs' was deprecated in version 0.23 and will be removed in 0.25.\n  \" removed in 0.25.\", FutureWarning)\n"
     ]
    },
    {
     "name": "stdout",
     "output_type": "stream",
     "text": [
      "6processed\n"
     ]
    },
    {
     "name": "stderr",
     "output_type": "stream",
     "text": [
      "/opt/conda/lib/python3.7/site-packages/sklearn/cluster/_kmeans.py:939: FutureWarning: 'n_jobs' was deprecated in version 0.23 and will be removed in 0.25.\n  \" removed in 0.25.\", FutureWarning)\n"
     ]
    },
    {
     "name": "stdout",
     "output_type": "stream",
     "text": [
      "7processed\n"
     ]
    },
    {
     "name": "stderr",
     "output_type": "stream",
     "text": [
      "/opt/conda/lib/python3.7/site-packages/sklearn/cluster/_kmeans.py:939: FutureWarning: 'n_jobs' was deprecated in version 0.23 and will be removed in 0.25.\n  \" removed in 0.25.\", FutureWarning)\n"
     ]
    },
    {
     "name": "stdout",
     "output_type": "stream",
     "text": [
      "8processed\n"
     ]
    },
    {
     "name": "stderr",
     "output_type": "stream",
     "text": [
      "/opt/conda/lib/python3.7/site-packages/sklearn/cluster/_kmeans.py:939: FutureWarning: 'n_jobs' was deprecated in version 0.23 and will be removed in 0.25.\n  \" removed in 0.25.\", FutureWarning)\n"
     ]
    },
    {
     "name": "stdout",
     "output_type": "stream",
     "text": [
      "9processed\n"
     ]
    },
    {
     "name": "stderr",
     "output_type": "stream",
     "text": [
      "/opt/conda/lib/python3.7/site-packages/sklearn/cluster/_kmeans.py:939: FutureWarning: 'n_jobs' was deprecated in version 0.23 and will be removed in 0.25.\n  \" removed in 0.25.\", FutureWarning)\n"
     ]
    },
    {
     "name": "stdout",
     "output_type": "stream",
     "text": [
      "10processed\n"
     ]
    },
    {
     "name": "stderr",
     "output_type": "stream",
     "text": [
      "/opt/conda/lib/python3.7/site-packages/sklearn/cluster/_kmeans.py:939: FutureWarning: 'n_jobs' was deprecated in version 0.23 and will be removed in 0.25.\n  \" removed in 0.25.\", FutureWarning)\n"
     ]
    },
    {
     "name": "stdout",
     "output_type": "stream",
     "text": [
      "11processed\n"
     ]
    },
    {
     "name": "stderr",
     "output_type": "stream",
     "text": [
      "/opt/conda/lib/python3.7/site-packages/sklearn/cluster/_kmeans.py:939: FutureWarning: 'n_jobs' was deprecated in version 0.23 and will be removed in 0.25.\n  \" removed in 0.25.\", FutureWarning)\n"
     ]
    },
    {
     "name": "stdout",
     "output_type": "stream",
     "text": [
      "12processed\n"
     ]
    },
    {
     "name": "stderr",
     "output_type": "stream",
     "text": [
      "/opt/conda/lib/python3.7/site-packages/sklearn/cluster/_kmeans.py:939: FutureWarning: 'n_jobs' was deprecated in version 0.23 and will be removed in 0.25.\n  \" removed in 0.25.\", FutureWarning)\n"
     ]
    },
    {
     "name": "stdout",
     "output_type": "stream",
     "text": [
      "13processed\n"
     ]
    },
    {
     "name": "stderr",
     "output_type": "stream",
     "text": [
      "/opt/conda/lib/python3.7/site-packages/sklearn/cluster/_kmeans.py:939: FutureWarning: 'n_jobs' was deprecated in version 0.23 and will be removed in 0.25.\n  \" removed in 0.25.\", FutureWarning)\n"
     ]
    },
    {
     "name": "stdout",
     "output_type": "stream",
     "text": [
      "14processed\n"
     ]
    },
    {
     "name": "stderr",
     "output_type": "stream",
     "text": [
      "/opt/conda/lib/python3.7/site-packages/sklearn/cluster/_kmeans.py:939: FutureWarning: 'n_jobs' was deprecated in version 0.23 and will be removed in 0.25.\n  \" removed in 0.25.\", FutureWarning)\n"
     ]
    },
    {
     "name": "stdout",
     "output_type": "stream",
     "text": [
      "15processed\n"
     ]
    },
    {
     "name": "stderr",
     "output_type": "stream",
     "text": [
      "/opt/conda/lib/python3.7/site-packages/sklearn/cluster/_kmeans.py:939: FutureWarning: 'n_jobs' was deprecated in version 0.23 and will be removed in 0.25.\n  \" removed in 0.25.\", FutureWarning)\n"
     ]
    },
    {
     "name": "stdout",
     "output_type": "stream",
     "text": [
      "16processed\n"
     ]
    },
    {
     "name": "stderr",
     "output_type": "stream",
     "text": [
      "/opt/conda/lib/python3.7/site-packages/sklearn/cluster/_kmeans.py:939: FutureWarning: 'n_jobs' was deprecated in version 0.23 and will be removed in 0.25.\n  \" removed in 0.25.\", FutureWarning)\n"
     ]
    },
    {
     "name": "stdout",
     "output_type": "stream",
     "text": [
      "17processed\n"
     ]
    },
    {
     "name": "stderr",
     "output_type": "stream",
     "text": [
      "/opt/conda/lib/python3.7/site-packages/sklearn/cluster/_kmeans.py:939: FutureWarning: 'n_jobs' was deprecated in version 0.23 and will be removed in 0.25.\n  \" removed in 0.25.\", FutureWarning)\n"
     ]
    },
    {
     "name": "stdout",
     "output_type": "stream",
     "text": [
      "18processed\n"
     ]
    },
    {
     "name": "stderr",
     "output_type": "stream",
     "text": [
      "/opt/conda/lib/python3.7/site-packages/sklearn/cluster/_kmeans.py:939: FutureWarning: 'n_jobs' was deprecated in version 0.23 and will be removed in 0.25.\n  \" removed in 0.25.\", FutureWarning)\n"
     ]
    },
    {
     "name": "stdout",
     "output_type": "stream",
     "text": [
      "19processed\n"
     ]
    },
    {
     "name": "stderr",
     "output_type": "stream",
     "text": [
      "/opt/conda/lib/python3.7/site-packages/sklearn/cluster/_kmeans.py:939: FutureWarning: 'n_jobs' was deprecated in version 0.23 and will be removed in 0.25.\n  \" removed in 0.25.\", FutureWarning)\n"
     ]
    },
    {
     "name": "stdout",
     "output_type": "stream",
     "text": [
      "20processed\n"
     ]
    },
    {
     "name": "stderr",
     "output_type": "stream",
     "text": [
      "/opt/conda/lib/python3.7/site-packages/sklearn/cluster/_kmeans.py:939: FutureWarning: 'n_jobs' was deprecated in version 0.23 and will be removed in 0.25.\n  \" removed in 0.25.\", FutureWarning)\n"
     ]
    },
    {
     "name": "stdout",
     "output_type": "stream",
     "text": [
      "21processed\n"
     ]
    },
    {
     "name": "stderr",
     "output_type": "stream",
     "text": [
      "/opt/conda/lib/python3.7/site-packages/sklearn/cluster/_kmeans.py:939: FutureWarning: 'n_jobs' was deprecated in version 0.23 and will be removed in 0.25.\n  \" removed in 0.25.\", FutureWarning)\n"
     ]
    },
    {
     "name": "stdout",
     "output_type": "stream",
     "text": [
      "22processed\n"
     ]
    },
    {
     "name": "stderr",
     "output_type": "stream",
     "text": [
      "/opt/conda/lib/python3.7/site-packages/sklearn/cluster/_kmeans.py:939: FutureWarning: 'n_jobs' was deprecated in version 0.23 and will be removed in 0.25.\n  \" removed in 0.25.\", FutureWarning)\n"
     ]
    },
    {
     "name": "stdout",
     "output_type": "stream",
     "text": [
      "23processed\n"
     ]
    },
    {
     "name": "stderr",
     "output_type": "stream",
     "text": [
      "/opt/conda/lib/python3.7/site-packages/sklearn/cluster/_kmeans.py:939: FutureWarning: 'n_jobs' was deprecated in version 0.23 and will be removed in 0.25.\n  \" removed in 0.25.\", FutureWarning)\n"
     ]
    },
    {
     "name": "stdout",
     "output_type": "stream",
     "text": [
      "24processed\n"
     ]
    },
    {
     "name": "stderr",
     "output_type": "stream",
     "text": [
      "/opt/conda/lib/python3.7/site-packages/sklearn/cluster/_kmeans.py:939: FutureWarning: 'n_jobs' was deprecated in version 0.23 and will be removed in 0.25.\n  \" removed in 0.25.\", FutureWarning)\n"
     ]
    },
    {
     "name": "stdout",
     "output_type": "stream",
     "text": [
      "25processed\n"
     ]
    },
    {
     "name": "stderr",
     "output_type": "stream",
     "text": [
      "/opt/conda/lib/python3.7/site-packages/sklearn/cluster/_kmeans.py:939: FutureWarning: 'n_jobs' was deprecated in version 0.23 and will be removed in 0.25.\n  \" removed in 0.25.\", FutureWarning)\n"
     ]
    },
    {
     "name": "stdout",
     "output_type": "stream",
     "text": [
      "26processed\n"
     ]
    },
    {
     "name": "stderr",
     "output_type": "stream",
     "text": [
      "/opt/conda/lib/python3.7/site-packages/sklearn/cluster/_kmeans.py:939: FutureWarning: 'n_jobs' was deprecated in version 0.23 and will be removed in 0.25.\n  \" removed in 0.25.\", FutureWarning)\n"
     ]
    },
    {
     "name": "stdout",
     "output_type": "stream",
     "text": [
      "27processed\n"
     ]
    },
    {
     "name": "stderr",
     "output_type": "stream",
     "text": [
      "/opt/conda/lib/python3.7/site-packages/sklearn/cluster/_kmeans.py:939: FutureWarning: 'n_jobs' was deprecated in version 0.23 and will be removed in 0.25.\n  \" removed in 0.25.\", FutureWarning)\n"
     ]
    },
    {
     "name": "stdout",
     "output_type": "stream",
     "text": [
      "28processed\n"
     ]
    },
    {
     "name": "stderr",
     "output_type": "stream",
     "text": [
      "/opt/conda/lib/python3.7/site-packages/sklearn/cluster/_kmeans.py:939: FutureWarning: 'n_jobs' was deprecated in version 0.23 and will be removed in 0.25.\n  \" removed in 0.25.\", FutureWarning)\n"
     ]
    },
    {
     "name": "stdout",
     "output_type": "stream",
     "text": [
      "29processed\nSum of squared distances :  [178620.94650164773, 178278.4630423151, 177685.27674958092, 177551.77253628473, 177029.8169985968, 176837.64730720592, 176257.39255221692, 176354.51790539105, 175894.37274098967, 175643.53849049233, 175262.50465604875, 175135.23809022145, 174997.30214409364, 174677.25716502828, 174527.57580919398, 174284.90869338592, 174013.91415649062, 173862.71711781292, 173654.28740838013, 173438.11826969308, 173225.248837218, 173008.08392906573, 172735.0041312859, 172829.11765569274, 172401.8110461639]\n"
     ]
    }
   ],
   "source": [
    "#Find optimal cluster size by finding sum-of-squared-distances\n",
    "\n",
    "sosd = []\n",
    "#Run clustering for sizes 1 to 15 and capture inertia\n",
    "K = range(5,30)\n",
    "for k in K:\n",
    "    km = KMeans(n_clusters=k, n_jobs=-1) #-1 will use all cores of CPU for computation\n",
    "    km = km.fit(matrix)\n",
    "    sosd.append(km.inertia_)\n",
    "    print(str(k) + \"processed\")\n",
    "    \n",
    "print(\"Sum of squared distances : \" ,sosd)\n"
   ]
  },
  {
   "cell_type": "code",
   "execution_count": 23,
   "metadata": {
    "trusted": true
   },
   "outputs": [
    {
     "data": {
      "image/png": "[encoded data removed]",
      "text/plain": [
       "<Figure size 432x288 with 1 Axes>"
      ]
     },
     "metadata": {
      "needs_background": "light"
     },
     "output_type": "display_data"
    }
   ],
   "source": [
    "\n",
    "#Plot sosd against number of clusters\n",
    "import matplotlib.pyplot as plt\n",
    "%matplotlib inline\n",
    "plt.plot(K, sosd, 'bx-')\n",
    "plt.xlabel('Cluster count')\n",
    "plt.ylabel('Sum_of_squared_distances')\n",
    "plt.title('Elbow Method For Optimal Cluster Size')\n",
    "plt.show()"
   ]
  },
  {
   "cell_type": "code",
   "execution_count": 24,
   "metadata": {
    "trusted": true
   },
   "outputs": [
    {
     "name": "stderr",
     "output_type": "stream",
     "text": [
      "/opt/conda/lib/python3.7/site-packages/sklearn/cluster/_kmeans.py:939: FutureWarning: 'n_jobs' was deprecated in version 0.23 and will be removed in 0.25.\n  \" removed in 0.25.\", FutureWarning)\n"
     ]
    }
   ],
   "source": [
    "#Split data into 9 clusters\n",
    "kmeans = KMeans(n_clusters=11, n_jobs=-1).fit(matrix)\n",
    "\n",
    "#get Cluster labels.\n",
    "clusters= kmeans.labels_"
   ]
  },
  {
   "cell_type": "code",
   "execution_count": 25,
   "metadata": {
    "trusted": true
   },
   "outputs": [
    {
     "data": {
      "text/plain": [
       "(91370,)"
      ]
     },
     "execution_count": 25,
     "metadata": {},
     "output_type": "execute_result"
    }
   ],
   "source": [
    "clusters.shape"
   ]
  },
  {
   "cell_type": "code",
   "execution_count": 26,
   "metadata": {
    "trusted": true
   },
   "outputs": [
    {
     "data": {
      "text/plain": [
       "11"
      ]
     },
     "execution_count": 26,
     "metadata": {},
     "output_type": "execute_result"
    }
   ],
   "source": [
    "len(set(clusters))"
   ]
  },
  {
   "cell_type": "code",
   "execution_count": 27,
   "metadata": {
    "trusted": true
   },
   "outputs": [],
   "source": [
    "pickle.dump(kmeans, open(\"kmeans.pkl\", \"wb\"))"
   ]
  },
  {
   "cell_type": "code",
   "execution_count": 28,
   "metadata": {
    "trusted": true
   },
   "outputs": [
    {
     "data": {
      "text/html": [
       "<a href='kmeans.pkl' target='_blank'>kmeans.pkl</a><br>"
      ],
      "text/plain": [
       "/kaggle/working/kmeans.pkl"
      ]
     },
     "execution_count": 28,
     "metadata": {},
     "output_type": "execute_result"
    }
   ],
   "source": [
    "import os\n",
    "os.chdir(r'../working')\n",
    "from IPython.display import FileLink\n",
    "FileLink(r'kmeans.pkl')"
   ]
  },
  {
   "cell_type": "code",
   "execution_count": 29,
   "metadata": {
    "trusted": true
   },
   "outputs": [
    {
     "data": {
      "text/plain": [
       "(91370, 2)"
      ]
     },
     "execution_count": 29,
     "metadata": {},
     "output_type": "execute_result"
    }
   ],
   "source": [
    "dfEmail.shape"
   ]
  },
  {
   "cell_type": "code",
   "execution_count": 30,
   "metadata": {
    "trusted": true
   },
   "outputs": [
    {
     "name": "stderr",
     "output_type": "stream",
     "text": [
      "/opt/conda/lib/python3.7/site-packages/ipykernel_launcher.py:1: SettingWithCopyWarning: \nA value is trying to be set on a copy of a slice from a DataFrame.\nTry using .loc[row_indexer,col_indexer] = value instead\n\nSee the caveats in the documentation: https://pandas.pydata.org/pandas-docs/stable/user_guide/indexing.html#returning-a-view-versus-a-copy\n  \"\"\"Entry point for launching an IPython kernel.\n"
     ]
    }
   ],
   "source": [
    "dfEmail['cluster'] = clusters"
   ]
  },
  {
   "cell_type": "code",
   "execution_count": 31,
   "metadata": {
    "trusted": true
   },
   "outputs": [
    {
     "data": {
      "text/html": [
       "<div>\n<style scoped>\n    .dataframe tbody tr th:only-of-type {\n        vertical-align: middle;\n    }\n\n    .dataframe tbody tr th {\n        vertical-align: top;\n    }\n\n    .dataframe thead th {\n        text-align: right;\n    }\n</style>\n<table border=\"1\" class=\"dataframe\">\n  <thead>\n    <tr style=\"text-align: right;\">\n      <th></th>\n      <th>Subject</th>\n      <th>content</th>\n      <th>cluster</th>\n    </tr>\n  </thead>\n  <tbody>\n    <tr>\n      <th>2</th>\n      <td>Re: test</td>\n      <td>test successful. way to go!!!</td>\n      <td>7</td>\n    </tr>\n    <tr>\n      <th>4</th>\n      <td>Re: Hello</td>\n      <td>Let's shoot for Tuesday at 11:45.</td>\n      <td>7</td>\n    </tr>\n    <tr>\n      <th>5</th>\n      <td>Re: Hello</td>\n      <td>Greg, How about either next Tuesday or Thursda...</td>\n      <td>7</td>\n    </tr>\n    <tr>\n      <th>7</th>\n      <td>Re: PRC review - phone calls</td>\n      <td>any morning between 10 and 11:30</td>\n      <td>5</td>\n    </tr>\n    <tr>\n      <th>8</th>\n      <td>Re: High Speed Internet Access</td>\n      <td>1. login: pallen pw: ke9davis I don't think th...</td>\n      <td>7</td>\n    </tr>\n  </tbody>\n</table>\n</div>"
      ],
      "text/plain": [
       "                          Subject  \\\n2                        Re: test   \n4                       Re: Hello   \n5                       Re: Hello   \n7    Re: PRC review - phone calls   \n8  Re: High Speed Internet Access   \n\n                                             content  cluster  \n2                      test successful. way to go!!!        7  \n4                  Let's shoot for Tuesday at 11:45.        7  \n5  Greg, How about either next Tuesday or Thursda...        7  \n7                   any morning between 10 and 11:30        5  \n8  1. login: pallen pw: ke9davis I don't think th...        7  "
      ]
     },
     "execution_count": 31,
     "metadata": {},
     "output_type": "execute_result"
    }
   ],
   "source": [
    "dfEmail.head()"
   ]
  },
  {
   "cell_type": "markdown",
   "metadata": {},
   "source": [
    "> Need to analyze this clusters and then label them according to our conclusion for that cluster."
   ]
  },
  {
   "cell_type": "code",
   "execution_count": 32,
   "metadata": {
    "trusted": true
   },
   "outputs": [
    {
     "name": "stderr",
     "output_type": "stream",
     "text": [
      "/opt/conda/lib/python3.7/site-packages/ipykernel_launcher.py:1: SettingWithCopyWarning: \nA value is trying to be set on a copy of a slice from a DataFrame.\nTry using .loc[row_indexer,col_indexer] = value instead\n\nSee the caveats in the documentation: https://pandas.pydata.org/pandas-docs/stable/user_guide/indexing.html#returning-a-view-versus-a-copy\n  \"\"\"Entry point for launching an IPython kernel.\n"
     ]
    }
   ],
   "source": [
    "dfEmail['Subject'] = dfEmail['Subject'].apply(lambda x: clean_text(x))"
   ]
  },
  {
   "cell_type": "code",
   "execution_count": null,
   "metadata": {
    "trusted": true
   },
   "outputs": [],
   "source": [
    "dfEmail['content'] = dfEmail['content'].apply(lambda x: clean_text(x))"
   ]
  },
  {
   "cell_type": "code",
   "execution_count": null,
   "metadata": {
    "trusted": true
   },
   "outputs": [],
   "source": [
    "pd.set_option('max_colwidth', 800)\n",
    "dfEmail[dfEmail['cluster'] == 0].head(20)"
   ]
  },
  {
   "cell_type": "code",
   "execution_count": 59,
   "metadata": {
    "trusted": true
   },
   "outputs": [
    {
     "data": {
      "text/html": [
       "<div>\n<style scoped>\n    .dataframe tbody tr th:only-of-type {\n        vertical-align: middle;\n    }\n\n    .dataframe tbody tr th {\n        vertical-align: top;\n    }\n\n    .dataframe thead th {\n        text-align: right;\n    }\n</style>\n<table border=\"1\" class=\"dataframe\">\n  <thead>\n    <tr style=\"text-align: right;\">\n      <th></th>\n      <th>Subject</th>\n      <th>content</th>\n      <th>cluster</th>\n    </tr>\n  </thead>\n  <tbody>\n    <tr>\n      <th>9</th>\n      <td>[fw, fix, forward, collar, floor, gas, price, term]</td>\n      <td>[, forward, phillip, k, allenhouect, 10162000, 0142, pm, buckner, buck, buckbucknerhoneywellcom, 10122000, 011221, pm, pallenenroncom, pallenenroncom, cc, subject, fw, fix, forward, collar, floor, gas, price, term, phillip, discuss, phone, conversation, parallon, 75, microturbine, power, generation, deal, national, account, customer, develop, proposal, sell, power, customer, fix, collarfloor, price, need, correspond, term, gas, price, microturbine, onsite, generation, product, develop, honeywell, generate, electricity, customer, site, degen, use, natural, gas, need, best, fix, price, forward, gas, price, deal, 1, 3, 5, 7, 10, years, annualseasonal, supply, microturbines, generate, fix, kwh, customer, opportunity, sell, customer, kwh, use, microturbine, sell, turbines, kwh, deal, must, ...</td>\n      <td>1</td>\n    </tr>\n    <tr>\n      <th>10</th>\n      <td>[fw, fix, forward, collar, floor, gas, price, term]</td>\n      <td>[mr, buckner, deliver, gas, behind, san, diego, enron, energy, service, appropriate, enron, entity, forward, request, zarin, imam, ees, phone, number, 7138537107, phillip, allen]</td>\n      <td>1</td>\n    </tr>\n    <tr>\n      <th>310</th>\n      <td>[fw, trade, track, program]</td>\n      <td>[think, chad, deserve, interview]</td>\n      <td>1</td>\n    </tr>\n    <tr>\n      <th>333</th>\n      <td>[fw, sanjuansocal, spread, price]</td>\n      <td>[thank, help]</td>\n      <td>1</td>\n    </tr>\n    <tr>\n      <th>391</th>\n      <td>[fw, 1099, tax, question, answer]</td>\n      <td>[, forward, phillip, k, allenhouect, 03132001, 0400, pm, benotti, stephen, 03132001, 125824, pm, pallenenroncom, pallenenroncom, cc, subject, fw, 1099, tax, question, answer, notice, regard, entry, order, instructions, please, transmit, order, andor, instructions, regard, painewebber, account, email, order, andor, instructions, transmit, email, accept, painewebber, painewebber, responsible, carry, order, andor, instructions, notice, regard, privacy, confidentiality, painewebber, reserve, right, monitor, review, content, email, communications, send, andor, receive, employees, 1494, filepdf]</td>\n      <td>1</td>\n    </tr>\n    <tr>\n      <th>405</th>\n      <td>[fw, cross, commodity]</td>\n      <td>[john, put, frank, hayden, decision, would, 20, consider, authorize, mike, g, frank, e, keith, h, trade, west, 20, power, think, phillip, forward, phillip, k, allenhouect, 03062001, 20, 1048, frank, haydenenronenronxgate, 03052001, 0927, cst, phillip, k, allenhouectect, cc, 20, subject, fw, cross, commodity, original, message, hayden, frank, 20, send, friday, march, 02, 2001, 701, pm, presto, kevin, zufferli, john, mckay, jonathan, belden, tim, shively, 20, hunter, neal, scott, martin, thomas, allen, phillip, arnold, john, subject, cross, commodity, importance, high, i01ve, ask, provide, update, list, authorize, cross, 20, trade, commoditiesproducts, soon, possible, please, reply, 20, email, name, authorize, 01cross, commodity018, traders, and20, ...]</td>\n      <td>1</td>\n    </tr>\n    <tr>\n      <th>430</th>\n      <td>[fw, change, agroup, cycle, schedule]</td>\n      <td>[spin, bike, much, better, life, cycle, would, consider, place, several, spin, bike, exercise, equipment, run, spin, video, tvs, think, equipment, would, use, much, members, could, jump, bike, follow, video, time, day, let, know, possible, phillip, allen, x37041]</td>\n      <td>1</td>\n    </tr>\n    <tr>\n      <th>929</th>\n      <td>[fw, trade, track, program]</td>\n      <td>[think, chad, deserve, interview]</td>\n      <td>1</td>\n    </tr>\n    <tr>\n      <th>952</th>\n      <td>[fw, sanjuansocal, spread, price]</td>\n      <td>[thank, help]</td>\n      <td>1</td>\n    </tr>\n    <tr>\n      <th>1013</th>\n      <td>[fw, 1099, tax, question, answer]</td>\n      <td>[, forward, phillip, k, allenhouect, 03132001, 0400, pm, benotti, stephen, 03132001, 125824, pm, pallenenroncom, pallenenroncom, cc, subject, fw, 1099, tax, question, answer, notice, regard, entry, order, instructions, please, transmit, order, andor, instructions, regard, painewebber, account, email, order, andor, instructions, transmit, email, accept, painewebber, painewebber, responsible, carry, order, andor, instructions, notice, regard, privacy, confidentiality, painewebber, reserve, right, monitor, review, content, email, communications, send, andor, receive, employees, 1494, filepdf]</td>\n      <td>1</td>\n    </tr>\n    <tr>\n      <th>1027</th>\n      <td>[fw, cross, commodity]</td>\n      <td>[john, put, frank, hayden, decision, would, 20, consider, authorize, mike, g, frank, e, keith, h, trade, west, 20, power, think, phillip, forward, phillip, k, allenhouect, 03062001, 20, 1048, frank, haydenenronenronxgate, 03052001, 0927, cst, phillip, k, allenhouectect, cc, 20, subject, fw, cross, commodity, original, message, hayden, frank, 20, send, friday, march, 02, 2001, 701, pm, presto, kevin, zufferli, john, mckay, jonathan, belden, tim, shively, 20, hunter, neal, scott, martin, thomas, allen, phillip, arnold, john, subject, cross, commodity, importance, high, i01ve, ask, provide, update, list, authorize, cross, 20, trade, commoditiesproducts, soon, possible, please, reply, 20, email, name, authorize, 01cross, commodity018, traders, and20, ...]</td>\n      <td>1</td>\n    </tr>\n    <tr>\n      <th>1052</th>\n      <td>[fw, change, agroup, cycle, schedule]</td>\n      <td>[spin, bike, much, better, life, cycle, would, consider, place, several, spin, bike, exercise, equipment, run, spin, video, tvs, think, equipment, would, use, much, members, could, jump, bike, follow, video, time, day, let, know, possible, phillip, allen, x37041]</td>\n      <td>1</td>\n    </tr>\n    <tr>\n      <th>1227</th>\n      <td>[fw, fix, forward, collar, floor, gas, price, term]</td>\n      <td>[, forward, phillip, k, allenhouect, 10162000, 0142, pm, buckner, buck, buckbucknerhoneywellcom, 10122000, 011221, pm, pallenenroncom, pallenenroncom, cc, subject, fw, fix, forward, collar, floor, gas, price, term, phillip, discuss, phone, conversation, parallon, 75, microturbine, power, generation, deal, national, account, customer, develop, proposal, sell, power, customer, fix, collarfloor, price, need, correspond, term, gas, price, microturbine, onsite, generation, product, develop, honeywell, generate, electricity, customer, site, degen, use, natural, gas, need, best, fix, price, forward, gas, price, deal, 1, 3, 5, 7, 10, years, annualseasonal, supply, microturbines, generate, fix, kwh, customer, opportunity, sell, customer, kwh, use, microturbine, sell, turbines, kwh, deal, must, ...</td>\n      <td>1</td>\n    </tr>\n    <tr>\n      <th>1228</th>\n      <td>[fw, fix, forward, collar, floor, gas, price, term]</td>\n      <td>[mr, buckner, deliver, gas, behind, san, diego, enron, energy, service, appropriate, enron, entity, forward, request, zarin, imam, ees, phone, number, 7138537107, phillip, allen]</td>\n      <td>1</td>\n    </tr>\n    <tr>\n      <th>1241</th>\n      <td>[fw, security, smart, id, tagsoff, property, usage]</td>\n      <td>[original, message, wright, lee, send, thursday, october, 18, 2001, 437, pm, bodyshop, subject, security, smart, id, tagsoff, property, usage, remain, consistent, enrons, directive, improve, security, access, build, enron, body, shop, members, require, checkin, body, shop, front, desk, present, enron, photo, id, badge, another, form, photo, id, security, officer, time, visit, assist, members, participate, outdoor, activities, visit, security, smart, id, tag, available, body, shop, front, desk, convenience, simply, slide, smart, id, tag, shoe, lace, eyelet, snap, tag, close, smart, id, tag, serve, safety, identification, tag, members, exercise, property, well, provide, security, identification, verification, require, enter, body, shop, day, plan, exercise, outside, ...]</td>\n      <td>1</td>\n    </tr>\n    <tr>\n      <th>1288</th>\n      <td>[fw, must, see]</td>\n      <td>[original, message, marquez, jose, send, tuesday, october, 23, 2001, 214, pm, holst, keith, subject, fw, must, see, original, message, roberts, mike, send, tuesday, october, 23, 2001, 210, pm, hamilton, tony, marquez, jose, stevens, adam, bennett, stephen, w, subject, fw, must, see, original, message, davenport, kaye, send, tuesday, october, 23, 2001, 852, dorothy, barnes, email, evelyn, hickey, email, johnjen, davenport, email, katchy, bennett, myer, email, judy, smith, email, kathy, white, email, kay, polk, email, larry, graham, email, linda, jenkins, email, lisa, micheaux, email, malcolm, jacobson, magnolia, email, sherry, kelley, email, roberts, mike, subject, fw, must, see, good, original, message, poulson, marc, ...]</td>\n      <td>1</td>\n    </tr>\n    <tr>\n      <th>1321</th>\n      <td>[fw, another, ena, trade, track, candidate]</td>\n      <td>[phillipmike, per, earlier, email, additionally, candidate, currently, work, london, office, analyst, look, come, houston, office, would, like, get, november, 1st, interview, contact, information, resume, number, well, 4, 4, 0, 2, 0, 7, 7, 8, 3, 5, 5, 5, 8, thank, adrianne, x57302, original, message, engler, adrianne, send, wednesday, october, 24, 2001, 1112, allen, phillip, k, grigsby, mike, subject, another, ena, trade, track, candidate, hi, phillip, mike, way, could, contact, candidate, ena, trade, track, appreciate, extra, effort, kind, regard, adrianne, x57302]</td>\n      <td>1</td>\n    </tr>\n    <tr>\n      <th>1397</th>\n      <td>[fw, expansionsummary, 101101]</td>\n      <td>[original, message, polsky, phil, send, tuesday, october, 23, 2001, 620, pm, grigsby, mike, subject, expansionsummary, 101101, raw, data, file, expansionsummary, 101101]</td>\n      <td>1</td>\n    </tr>\n    <tr>\n      <th>1399</th>\n      <td>[fw, summary, grigsbyxls]</td>\n      <td>[original, message, polsky, phil, send, wednesday, october, 24, 2001, 757, grigsby, mike, subject, summary, grigsbyxls, mike, attach, update, summary, regard, expansions, west, one, change, pgt, 2003, expansion, expansion, drop, 230000, mmd, 160000, mmd, due, ppl, drop, let, know, need, anything, else, phil]</td>\n      <td>1</td>\n    </tr>\n    <tr>\n      <th>1405</th>\n      <td>[fw, presentation, announcement]</td>\n      <td>[original, message, crenshaw, shirley, send, thursday, october, 25, 2001, 215, pm, black, tamara, jae, rangel, ina, coneway, betty, j, subject, presentation, announcement, hello, everyone, would, please, forward, announcement, group, really, appreciate, help, thank, shirley, crenshaw, invite, attend, follow, presentation, psim, power, simulation, tool, psim, proprietary, model, develop, enron, research, group, take, power, gas, weather, demand, information, consideration, use, montecarlo, simulation, assess, expect, deal, value, risk, distribution, evaluate, complex, electricity, relate, contract, full, requirement, load, follow, contract, also, provide, valuation, tool, power, assets, asset, management, deal, work, deal, specific, portfolio, issue, presentation, show, model, use, deal...</td>\n      <td>1</td>\n    </tr>\n  </tbody>\n</table>\n</div>"
      ],
      "text/plain": [
       "                                                  Subject                                                                                                                                                                                                                                                                                                                                                                                                                                                                                                                                                                                                                                                                                                                                                                                                                          content  cluster\n9     [fw, fix, forward, collar, floor, gas, price, term]  [, forward, phillip, k, allenhouect, 10162000, 0142, pm, buckner, buck, buckbucknerhoneywellcom, 10122000, 011221, pm, pallenenroncom, pallenenroncom, cc, subject, fw, fix, forward, collar, floor, gas, price, term, phillip, discuss, phone, conversation, parallon, 75, microturbine, power, generation, deal, national, account, customer, develop, proposal, sell, power, customer, fix, collarfloor, price, need, correspond, term, gas, price, microturbine, onsite, generation, product, develop, honeywell, generate, electricity, customer, site, degen, use, natural, gas, need, best, fix, price, forward, gas, price, deal, 1, 3, 5, 7, 10, years, annualseasonal, supply, microturbines, generate, fix, kwh, customer, opportunity, sell, customer, kwh, use, microturbine, sell, turbines, kwh, deal, must, ...        1\n10    [fw, fix, forward, collar, floor, gas, price, term]                                                                                                                                                                                                                                                                                                                                                                                                                                                                                                                                                                                                                                               [mr, buckner, deliver, gas, behind, san, diego, enron, energy, service, appropriate, enron, entity, forward, request, zarin, imam, ees, phone, number, 7138537107, phillip, allen]        1\n310                           [fw, trade, track, program]                                                                                                                                                                                                                                                                                                                                                                                                                                                                                                                                                                                                                                                                                                                                                                                                [think, chad, deserve, interview]        1\n333                     [fw, sanjuansocal, spread, price]                                                                                                                                                                                                                                                                                                                                                                                                                                                                                                                                                                                                                                                                                                                                                                                                                    [thank, help]        1\n391                     [fw, 1099, tax, question, answer]                                                                                                                                                                                                             [, forward, phillip, k, allenhouect, 03132001, 0400, pm, benotti, stephen, 03132001, 125824, pm, pallenenroncom, pallenenroncom, cc, subject, fw, 1099, tax, question, answer, notice, regard, entry, order, instructions, please, transmit, order, andor, instructions, regard, painewebber, account, email, order, andor, instructions, transmit, email, accept, painewebber, painewebber, responsible, carry, order, andor, instructions, notice, regard, privacy, confidentiality, painewebber, reserve, right, monitor, review, content, email, communications, send, andor, receive, employees, 1494, filepdf]        1\n405                                [fw, cross, commodity]                                        [john, put, frank, hayden, decision, would, 20, consider, authorize, mike, g, frank, e, keith, h, trade, west, 20, power, think, phillip, forward, phillip, k, allenhouect, 03062001, 20, 1048, frank, haydenenronenronxgate, 03052001, 0927, cst, phillip, k, allenhouectect, cc, 20, subject, fw, cross, commodity, original, message, hayden, frank, 20, send, friday, march, 02, 2001, 701, pm, presto, kevin, zufferli, john, mckay, jonathan, belden, tim, shively, 20, hunter, neal, scott, martin, thomas, allen, phillip, arnold, john, subject, cross, commodity, importance, high, i01ve, ask, provide, update, list, authorize, cross, 20, trade, commoditiesproducts, soon, possible, please, reply, 20, email, name, authorize, 01cross, commodity018, traders, and20, ...]        1\n430                 [fw, change, agroup, cycle, schedule]                                                                                                                                                                                                                                                                                                                                                                                                                                                                                                                                                          [spin, bike, much, better, life, cycle, would, consider, place, several, spin, bike, exercise, equipment, run, spin, video, tvs, think, equipment, would, use, much, members, could, jump, bike, follow, video, time, day, let, know, possible, phillip, allen, x37041]        1\n929                           [fw, trade, track, program]                                                                                                                                                                                                                                                                                                                                                                                                                                                                                                                                                                                                                                                                                                                                                                                                [think, chad, deserve, interview]        1\n952                     [fw, sanjuansocal, spread, price]                                                                                                                                                                                                                                                                                                                                                                                                                                                                                                                                                                                                                                                                                                                                                                                                                    [thank, help]        1\n1013                    [fw, 1099, tax, question, answer]                                                                                                                                                                                                             [, forward, phillip, k, allenhouect, 03132001, 0400, pm, benotti, stephen, 03132001, 125824, pm, pallenenroncom, pallenenroncom, cc, subject, fw, 1099, tax, question, answer, notice, regard, entry, order, instructions, please, transmit, order, andor, instructions, regard, painewebber, account, email, order, andor, instructions, transmit, email, accept, painewebber, painewebber, responsible, carry, order, andor, instructions, notice, regard, privacy, confidentiality, painewebber, reserve, right, monitor, review, content, email, communications, send, andor, receive, employees, 1494, filepdf]        1\n1027                               [fw, cross, commodity]                                        [john, put, frank, hayden, decision, would, 20, consider, authorize, mike, g, frank, e, keith, h, trade, west, 20, power, think, phillip, forward, phillip, k, allenhouect, 03062001, 20, 1048, frank, haydenenronenronxgate, 03052001, 0927, cst, phillip, k, allenhouectect, cc, 20, subject, fw, cross, commodity, original, message, hayden, frank, 20, send, friday, march, 02, 2001, 701, pm, presto, kevin, zufferli, john, mckay, jonathan, belden, tim, shively, 20, hunter, neal, scott, martin, thomas, allen, phillip, arnold, john, subject, cross, commodity, importance, high, i01ve, ask, provide, update, list, authorize, cross, 20, trade, commoditiesproducts, soon, possible, please, reply, 20, email, name, authorize, 01cross, commodity018, traders, and20, ...]        1\n1052                [fw, change, agroup, cycle, schedule]                                                                                                                                                                                                                                                                                                                                                                                                                                                                                                                                                          [spin, bike, much, better, life, cycle, would, consider, place, several, spin, bike, exercise, equipment, run, spin, video, tvs, think, equipment, would, use, much, members, could, jump, bike, follow, video, time, day, let, know, possible, phillip, allen, x37041]        1\n1227  [fw, fix, forward, collar, floor, gas, price, term]  [, forward, phillip, k, allenhouect, 10162000, 0142, pm, buckner, buck, buckbucknerhoneywellcom, 10122000, 011221, pm, pallenenroncom, pallenenroncom, cc, subject, fw, fix, forward, collar, floor, gas, price, term, phillip, discuss, phone, conversation, parallon, 75, microturbine, power, generation, deal, national, account, customer, develop, proposal, sell, power, customer, fix, collarfloor, price, need, correspond, term, gas, price, microturbine, onsite, generation, product, develop, honeywell, generate, electricity, customer, site, degen, use, natural, gas, need, best, fix, price, forward, gas, price, deal, 1, 3, 5, 7, 10, years, annualseasonal, supply, microturbines, generate, fix, kwh, customer, opportunity, sell, customer, kwh, use, microturbine, sell, turbines, kwh, deal, must, ...        1\n1228  [fw, fix, forward, collar, floor, gas, price, term]                                                                                                                                                                                                                                                                                                                                                                                                                                                                                                                                                                                                                                               [mr, buckner, deliver, gas, behind, san, diego, enron, energy, service, appropriate, enron, entity, forward, request, zarin, imam, ees, phone, number, 7138537107, phillip, allen]        1\n1241  [fw, security, smart, id, tagsoff, property, usage]                      [original, message, wright, lee, send, thursday, october, 18, 2001, 437, pm, bodyshop, subject, security, smart, id, tagsoff, property, usage, remain, consistent, enrons, directive, improve, security, access, build, enron, body, shop, members, require, checkin, body, shop, front, desk, present, enron, photo, id, badge, another, form, photo, id, security, officer, time, visit, assist, members, participate, outdoor, activities, visit, security, smart, id, tag, available, body, shop, front, desk, convenience, simply, slide, smart, id, tag, shoe, lace, eyelet, snap, tag, close, smart, id, tag, serve, safety, identification, tag, members, exercise, property, well, provide, security, identification, verification, require, enter, body, shop, day, plan, exercise, outside, ...]        1\n1288                                      [fw, must, see]                                                                     [original, message, marquez, jose, send, tuesday, october, 23, 2001, 214, pm, holst, keith, subject, fw, must, see, original, message, roberts, mike, send, tuesday, october, 23, 2001, 210, pm, hamilton, tony, marquez, jose, stevens, adam, bennett, stephen, w, subject, fw, must, see, original, message, davenport, kaye, send, tuesday, october, 23, 2001, 852, dorothy, barnes, email, evelyn, hickey, email, johnjen, davenport, email, katchy, bennett, myer, email, judy, smith, email, kathy, white, email, kay, polk, email, larry, graham, email, linda, jenkins, email, lisa, micheaux, email, malcolm, jacobson, magnolia, email, sherry, kelley, email, roberts, mike, subject, fw, must, see, good, original, message, poulson, marc, ...]        1\n1321          [fw, another, ena, trade, track, candidate]                                                                                                                                                                                                                                     [phillipmike, per, earlier, email, additionally, candidate, currently, work, london, office, analyst, look, come, houston, office, would, like, get, november, 1st, interview, contact, information, resume, number, well, 4, 4, 0, 2, 0, 7, 7, 8, 3, 5, 5, 5, 8, thank, adrianne, x57302, original, message, engler, adrianne, send, wednesday, october, 24, 2001, 1112, allen, phillip, k, grigsby, mike, subject, another, ena, trade, track, candidate, hi, phillip, mike, way, could, contact, candidate, ena, trade, track, appreciate, extra, effort, kind, regard, adrianne, x57302]        1\n1397                       [fw, expansionsummary, 101101]                                                                                                                                                                                                                                                                                                                                                                                                                                                                                                                                                                                                                                                        [original, message, polsky, phil, send, tuesday, october, 23, 2001, 620, pm, grigsby, mike, subject, expansionsummary, 101101, raw, data, file, expansionsummary, 101101]        1\n1399                            [fw, summary, grigsbyxls]                                                                                                                                                                                                                                                                                                                                                                                                                                                                                                            [original, message, polsky, phil, send, wednesday, october, 24, 2001, 757, grigsby, mike, subject, summary, grigsbyxls, mike, attach, update, summary, regard, expansions, west, one, change, pgt, 2003, expansion, expansion, drop, 230000, mmd, 160000, mmd, due, ppl, drop, let, know, need, anything, else, phil]        1\n1405                     [fw, presentation, announcement]  [original, message, crenshaw, shirley, send, thursday, october, 25, 2001, 215, pm, black, tamara, jae, rangel, ina, coneway, betty, j, subject, presentation, announcement, hello, everyone, would, please, forward, announcement, group, really, appreciate, help, thank, shirley, crenshaw, invite, attend, follow, presentation, psim, power, simulation, tool, psim, proprietary, model, develop, enron, research, group, take, power, gas, weather, demand, information, consideration, use, montecarlo, simulation, assess, expect, deal, value, risk, distribution, evaluate, complex, electricity, relate, contract, full, requirement, load, follow, contract, also, provide, valuation, tool, power, assets, asset, management, deal, work, deal, specific, portfolio, issue, presentation, show, model, use, deal...        1"
      ]
     },
     "execution_count": 59,
     "metadata": {},
     "output_type": "execute_result"
    }
   ],
   "source": [
    "dfEmail[dfEmail['cluster'] == 1].head(20)"
   ]
  },
  {
   "cell_type": "code",
   "execution_count": 60,
   "metadata": {
    "trusted": true
   },
   "outputs": [
    {
     "data": {
      "text/html": [
       "<div>\n<style scoped>\n    .dataframe tbody tr th:only-of-type {\n        vertical-align: middle;\n    }\n\n    .dataframe tbody tr th {\n        vertical-align: top;\n    }\n\n    .dataframe thead th {\n        text-align: right;\n    }\n</style>\n<table border=\"1\" class=\"dataframe\">\n  <thead>\n    <tr style=\"text-align: right;\">\n      <th></th>\n      <th>Subject</th>\n      <th>content</th>\n      <th>cluster</th>\n    </tr>\n  </thead>\n  <tbody>\n    <tr>\n      <th>69</th>\n      <td>[western, gas, market, report, draft]</td>\n      <td>[richard, compare, california, production, number, 2000, california, gas, report, show, 410, might, two, utilities, receive]</td>\n      <td>2</td>\n    </tr>\n    <tr>\n      <th>76</th>\n      <td>[security, request, clog4nnjez, deny]</td>\n      <td>[request, come]</td>\n      <td>2</td>\n    </tr>\n    <tr>\n      <th>83</th>\n      <td>[request, steve, kean]</td>\n      <td>[alan, receive, update, number, keith, holst, call, receive, phillip]</td>\n      <td>2</td>\n    </tr>\n    <tr>\n      <th>94</th>\n      <td>[request, steve, kean]</td>\n      <td>[, forward, phillip, k, allenhouect, 04302001, 1121, alan, comnes, 04272001, 0138, pm, phillip, k, allenhouectect, cc, joe, hartsoecorpenronenron, subject, request, steve, kean, phillip, get, request, gas, side, think, keanlay, need, update, table, prepare, months, ago, ive, attach, oblige, thank, alan, comnes, forward, alan, comnespdxect, 04272001, 0142, pm, janel, guerreroenron, 04272001, 1244, pm, alan, comnespdxectect, jeff, dasovichnaenronenron, cc, paul, kaufmanpdxectect, richard, shapironaenronenron, subject, request, steve, kean, alan, steve, ask, update, power, point, reflect, stupid, regulatorylegislative, decisions, since, begin, year, ken, want, update, chart, brief, book, next, weeks, ken, lay, tour, ca, also, want, forward, price, curve, gas, power, ca, get, three, ...]</td>\n      <td>2</td>\n    </tr>\n    <tr>\n      <th>97</th>\n      <td>[daily, report]</td>\n      <td>[, forward, phillip, k, allenhouect, 08202000, 0538, pm, lucy, gonzalez, stagecoachmamahotmailcom, 08162000, 024436, pm, pallenenroncom, cc, subject, daily, report, phillip, ac, buy, today, 17, cost, 16671, pd, ck1429, 81600, walmartalso, 81500, ralphs, appliance, centerck1428, frig, stave, apt, 20b, ivoice, 000119, amt30856, stove15000, frig12500del, chrg1500tax1856, total30856fax, machine, ffice, ck, 142710825, steelman, office, produc, ts, thanxs, lucy, get, private, free, email, msn, hotmail, httpwwwhotmailcom]</td>\n      <td>2</td>\n    </tr>\n    <tr>\n      <th>98</th>\n      <td>[daily, report]</td>\n      <td>[, forward, phillip, k, allenhouect, 08202000, 0538, pm, lucy, gonzalez, stagecoachmamahotmailcom, 08172000, 023755, pm, pallenenroncom, cc, subject, daily, report, phillip, today, one, days, wade, go, pay, fine, go, take, take, alot, time, scheduleif, get, chance, mention, need, try, fix, van, tht, go, get, ever, need, tomorrow, gary, go, herei, go, iwill, email, tomorrow, lucy, get, private, free, email, msn, hotmail, httpwwwhotmailcom]</td>\n      <td>2</td>\n    </tr>\n    <tr>\n      <th>104</th>\n      <td>[approval, request]</td>\n      <td>[stephanie, please, grant, paul, request, eol, right, thank, phillip]</td>\n      <td>2</td>\n    </tr>\n    <tr>\n      <th>105</th>\n      <td>[request, steve, kean]</td>\n      <td>[, forward, phillip, k, allenhouect, 04302001, 1036, alan, comnes, 04272001, 0138, pm, phillip, k, allenhouectect, cc, joe, hartsoecorpenronenron, subject, request, steve, kean, phillip, get, request, gas, side, think, keanlay, need, update, table, prepare, months, ago, ive, attach, oblige, thank, alan, comnes, forward, alan, comnespdxect, 04272001, 0142, pm, janel, guerreroenron, 04272001, 1244, pm, alan, comnespdxectect, jeff, dasovichnaenronenron, cc, paul, kaufmanpdxectect, richard, shapironaenronenron, subject, request, steve, kean, alan, steve, ask, update, power, point, reflect, stupid, regulatorylegislative, decisions, since, begin, year, ken, want, update, chart, brief, book, next, weeks, ken, lay, tour, ca, also, want, forward, price, curve, gas, power, ca, get, three, ...]</td>\n      <td>2</td>\n    </tr>\n    <tr>\n      <th>111</th>\n      <td>[approval, overdue, access, request, paultluccienroncom]</td>\n      <td>[ina, many, time, think, jeff, want, get, message, please, help, phillip, forward, phillip, k, allenhouect, 08082000, 0430, pm, jeffrey, shankman, 08082000, 0559, phillip, k, allenhouectect, cc, paul, luccidenectenron, subject, approval, overdue, access, request, paultluccienroncom, please, phillip, john, l, approve, thank, jeff, forward, jeffrey, shankmanhouect, 08082000, 0748, arsystemectenroncom, 08072000, 070323, pm, jeffreyashankmanenroncom, cc, subject, approval, overdue, access, request, paultluccienroncom, request, pending, approval, 8, days, please, click, jeffreyashankmanenroncom, approve, request, contact, irm, 7138535536, issue, request, id, 000000000000935, request, create, date, 72700, 21523, pm, request, paultluccienroncom, resource, name, eol, us, natgas, us, gas, phy, ...</td>\n      <td>2</td>\n    </tr>\n    <tr>\n      <th>112</th>\n      <td>[request, submit, access, request, frankermisenroncom]</td>\n      <td>[ina, keep, get, security, request, cannot, approve, please, take, care, phillip, forward, phillip, k, allenhouect, 08082000, 0428, pm, arsystemectenroncom, 08082000, 071738, phillipkallenenroncom, cc, subject, request, submit, access, request, frankermisenroncom, please, review, act, upon, request, receive, email, requester, specify, manager, please, click, phillipkallenenroncom, approve, th, request, id, 000000000001282, request, create, date, 8800, 91559, request, frankermisenroncom, resource, name, market, data, telerate, basic, energy, resource, type, applications]</td>\n      <td>2</td>\n    </tr>\n    <tr>\n      <th>115</th>\n      <td>[report, property]</td>\n      <td>[lucy, didnt, get, fax, july, bank, statement, friday, refax, 713, 646, 2391, phillip]</td>\n      <td>2</td>\n    </tr>\n    <tr>\n      <th>237</th>\n      <td>[feb, expense, report]</td>\n      <td>[try, attachment, attach]</td>\n      <td>2</td>\n    </tr>\n    <tr>\n      <th>242</th>\n      <td>[desk, desk, access, request]</td>\n      <td>[tara, receive, email, set, paul, lucci, niccole, cortez, executable, ids, right, set, fine, thank, help, phillip]</td>\n      <td>2</td>\n    </tr>\n    <tr>\n      <th>257</th>\n      <td>[website, access, approval, request]</td>\n      <td>[tara, note, documentation, approval, grant, execute, ids, west, cash, traders, thank, help, phillip]</td>\n      <td>2</td>\n    </tr>\n    <tr>\n      <th>294</th>\n      <td>[request, steve, kean]</td>\n      <td>[alan, receive, update, number, keith, holst, call, receive, phillip]</td>\n      <td>2</td>\n    </tr>\n    <tr>\n      <th>295</th>\n      <td>[request, steve, kean]</td>\n      <td>[, forward, phillip, k, allenhouect, 04302001, 1121, alan, comnes, 04272001, 0138, pm, phillip, k, allenhouectect, cc, joe, hartsoecorpenronenron, subject, request, steve, kean, phillip, get, request, gas, side, think, keanlay, need, update, table, prepare, months, ago, ive, attach, oblige, thank, alan, comnes, forward, alan, comnespdxect, 04272001, 0142, pm, janel, guerreroenron, 04272001, 1244, pm, alan, comnespdxectect, jeff, dasovichnaenronenron, cc, paul, kaufmanpdxectect, richard, shapironaenronenron, subject, request, steve, kean, alan, steve, ask, update, power, point, reflect, stupid, regulatorylegislative, decisions, since, begin, year, ken, want, update, chart, brief, book, next, weeks, ken, lay, tour, ca, also, want, forward, price, curve, gas, power, ca, get, three, ...]</td>\n      <td>2</td>\n    </tr>\n    <tr>\n      <th>296</th>\n      <td>[request, steve, kean]</td>\n      <td>[, forward, phillip, k, allenhouect, 04302001, 1036, alan, comnes, 04272001, 0138, pm, phillip, k, allenhouectect, cc, joe, hartsoecorpenronenron, subject, request, steve, kean, phillip, get, request, gas, side, think, keanlay, need, update, table, prepare, months, ago, ive, attach, oblige, thank, alan, comnes, forward, alan, comnespdxect, 04272001, 0142, pm, janel, guerreroenron, 04272001, 1244, pm, alan, comnespdxectect, jeff, dasovichnaenronenron, cc, paul, kaufmanpdxectect, richard, shapironaenronenron, subject, request, steve, kean, alan, steve, ask, update, power, point, reflect, stupid, regulatorylegislative, decisions, since, begin, year, ken, want, update, chart, brief, book, next, weeks, ken, lay, tour, ca, also, want, forward, price, curve, gas, power, ca, get, three, ...]</td>\n      <td>2</td>\n    </tr>\n    <tr>\n      <th>372</th>\n      <td>[approval, overdue, access, request, mikegrigsbyenroncom]</td>\n      <td>[ina, help, approve, request, phillip, forward, phillip, k, allenhouect, 03192001, 0953, arsystem, arsystemmailmanenroncom, 03162001, 051512, pm, phillipkallenenroncom, phillipkallenenroncom, cc, subject, approval, overdue, access, request, mikegrigsbyenroncom, request, pending, approval, 9, days, please, click, approval, review, act, upon, request, request, id, 000000000021442, request, create, date, 3201, 82700, request, mikegrigsbyenroncom, resource, name, market, data, bloomberg, resource, type, applications]</td>\n      <td>2</td>\n    </tr>\n    <tr>\n      <th>419</th>\n      <td>[new, generation, report, january, 2001]</td>\n      <td>[, forward, phillip, k, allenhouect, 02232001, 1117, jeffrey, oh, 02022001, 0851, phillip, k, allenhouectect, julie, gomezhouectect, tim, beldenhouectect, robert, badeerhouectect, matt, motleypdxectect, mike, swerzbinhouectect, jim, gilbertpdxectect, david, parquetsfectect, ccalgerenroncom, jim, buerklepdxectect, elliot, mainzerpdxectect, jeffrey, ohpdxectect, todd, perrypdxectect, laird, dyersfectect, michael, mcdonaldsfectect, ed, clarkpdxectect, dave, fullerpdxectect, alan, comnespdxectect, michael, etringerhouectect, john, malowneyhouectect, stewart, rosmanhouectect, jeff, shieldspdxectect, cc, subject, new, generation, report, january, 2001]</td>\n      <td>2</td>\n    </tr>\n    <tr>\n      <th>486</th>\n      <td>[cpuc, post, audit, report]</td>\n      <td>[, forward, phillip, k, allenhouect, 01302001, 1121, susan, j, maraenron, 01302001, 0914, alan, comnespdxectect, angela, schwarzhoueesees, beverly, adenhoueesees, bill, votawhoueesees, brenda, barredahoueesees, carol, moffetthoueesees, cathy, corbinhoueesees, chris, h, fosterhouectect, christina, liscanohoueesees, christopher, f, calgerpdxectect, craig, h, sutterhoueesees, dan, leffhoueesees, debora, whiteheadhoueesees, dennis, benevideshoueesees, blackhoueesees, dorothy, youngbloodhouectect, douglas, huthhoueesees, edward, sackscorpenronenron, eric, melvinhoueesees, erika, duprehoueesees, evan, hugheshoueesees, fran, deltorohoueesees, frank, w, vickershouectect, gayle, w, muenchhoueesees, ginger, dernehlnaenronenron, gordon, savagehoueesees, harold, g, buchananhoueesees, harry, kinger...</td>\n      <td>2</td>\n    </tr>\n  </tbody>\n</table>\n</div>"
      ],
      "text/plain": [
       "                                                       Subject                                                                                                                                                                                                                                                                                                                                                                                                                                                                                                                                                                                                                                                                                                                                                                                                                          content  cluster\n69                       [western, gas, market, report, draft]                                                                                                                                                                                                                                                                                                                                                                                                                                                                                                                                                                                                                                                                                                     [richard, compare, california, production, number, 2000, california, gas, report, show, 410, might, two, utilities, receive]        2\n76                       [security, request, clog4nnjez, deny]                                                                                                                                                                                                                                                                                                                                                                                                                                                                                                                                                                                                                                                                                                                                                                                                                  [request, come]        2\n83                                      [request, steve, kean]                                                                                                                                                                                                                                                                                                                                                                                                                                                                                                                                                                                                                                                                                                                                                            [alan, receive, update, number, keith, holst, call, receive, phillip]        2\n94                                      [request, steve, kean]       [, forward, phillip, k, allenhouect, 04302001, 1121, alan, comnes, 04272001, 0138, pm, phillip, k, allenhouectect, cc, joe, hartsoecorpenronenron, subject, request, steve, kean, phillip, get, request, gas, side, think, keanlay, need, update, table, prepare, months, ago, ive, attach, oblige, thank, alan, comnes, forward, alan, comnespdxect, 04272001, 0142, pm, janel, guerreroenron, 04272001, 1244, pm, alan, comnespdxectect, jeff, dasovichnaenronenron, cc, paul, kaufmanpdxectect, richard, shapironaenronenron, subject, request, steve, kean, alan, steve, ask, update, power, point, reflect, stupid, regulatorylegislative, decisions, since, begin, year, ken, want, update, chart, brief, book, next, weeks, ken, lay, tour, ca, also, want, forward, price, curve, gas, power, ca, get, three, ...]        2\n97                                             [daily, report]                                                                                                                                                                                                                                                                                         [, forward, phillip, k, allenhouect, 08202000, 0538, pm, lucy, gonzalez, stagecoachmamahotmailcom, 08162000, 024436, pm, pallenenroncom, cc, subject, daily, report, phillip, ac, buy, today, 17, cost, 16671, pd, ck1429, 81600, walmartalso, 81500, ralphs, appliance, centerck1428, frig, stave, apt, 20b, ivoice, 000119, amt30856, stove15000, frig12500del, chrg1500tax1856, total30856fax, machine, ffice, ck, 142710825, steelman, office, produc, ts, thanxs, lucy, get, private, free, email, msn, hotmail, httpwwwhotmailcom]        2\n98                                             [daily, report]                                                                                                                                                                                                                                                                                                                                                                       [, forward, phillip, k, allenhouect, 08202000, 0538, pm, lucy, gonzalez, stagecoachmamahotmailcom, 08172000, 023755, pm, pallenenroncom, cc, subject, daily, report, phillip, today, one, days, wade, go, pay, fine, go, take, take, alot, time, scheduleif, get, chance, mention, need, try, fix, van, tht, go, get, ever, need, tomorrow, gary, go, herei, go, iwill, email, tomorrow, lucy, get, private, free, email, msn, hotmail, httpwwwhotmailcom]        2\n104                                        [approval, request]                                                                                                                                                                                                                                                                                                                                                                                                                                                                                                                                                                                                                                                                                                                                                            [stephanie, please, grant, paul, request, eol, right, thank, phillip]        2\n105                                     [request, steve, kean]       [, forward, phillip, k, allenhouect, 04302001, 1036, alan, comnes, 04272001, 0138, pm, phillip, k, allenhouectect, cc, joe, hartsoecorpenronenron, subject, request, steve, kean, phillip, get, request, gas, side, think, keanlay, need, update, table, prepare, months, ago, ive, attach, oblige, thank, alan, comnes, forward, alan, comnespdxect, 04272001, 0142, pm, janel, guerreroenron, 04272001, 1244, pm, alan, comnespdxectect, jeff, dasovichnaenronenron, cc, paul, kaufmanpdxectect, richard, shapironaenronenron, subject, request, steve, kean, alan, steve, ask, update, power, point, reflect, stupid, regulatorylegislative, decisions, since, begin, year, ken, want, update, chart, brief, book, next, weeks, ken, lay, tour, ca, also, want, forward, price, curve, gas, power, ca, get, three, ...]        2\n111   [approval, overdue, access, request, paultluccienroncom]  [ina, many, time, think, jeff, want, get, message, please, help, phillip, forward, phillip, k, allenhouect, 08082000, 0430, pm, jeffrey, shankman, 08082000, 0559, phillip, k, allenhouectect, cc, paul, luccidenectenron, subject, approval, overdue, access, request, paultluccienroncom, please, phillip, john, l, approve, thank, jeff, forward, jeffrey, shankmanhouect, 08082000, 0748, arsystemectenroncom, 08072000, 070323, pm, jeffreyashankmanenroncom, cc, subject, approval, overdue, access, request, paultluccienroncom, request, pending, approval, 8, days, please, click, jeffreyashankmanenroncom, approve, request, contact, irm, 7138535536, issue, request, id, 000000000000935, request, create, date, 72700, 21523, pm, request, paultluccienroncom, resource, name, eol, us, natgas, us, gas, phy, ...        2\n112     [request, submit, access, request, frankermisenroncom]                                                                                                                                                                                                                                 [ina, keep, get, security, request, cannot, approve, please, take, care, phillip, forward, phillip, k, allenhouect, 08082000, 0428, pm, arsystemectenroncom, 08082000, 071738, phillipkallenenroncom, cc, subject, request, submit, access, request, frankermisenroncom, please, review, act, upon, request, receive, email, requester, specify, manager, please, click, phillipkallenenroncom, approve, th, request, id, 000000000001282, request, create, date, 8800, 91559, request, frankermisenroncom, resource, name, market, data, telerate, basic, energy, resource, type, applications]        2\n115                                         [report, property]                                                                                                                                                                                                                                                                                                                                                                                                                                                                                                                                                                                                                                                                                                                                           [lucy, didnt, get, fax, july, bank, statement, friday, refax, 713, 646, 2391, phillip]        2\n237                                     [feb, expense, report]                                                                                                                                                                                                                                                                                                                                                                                                                                                                                                                                                                                                                                                                                                                                                                                                        [try, attachment, attach]        2\n242                              [desk, desk, access, request]                                                                                                                                                                                                                                                                                                                                                                                                                                                                                                                                                                                                                                                                                                               [tara, receive, email, set, paul, lucci, niccole, cortez, executable, ids, right, set, fine, thank, help, phillip]        2\n257                       [website, access, approval, request]                                                                                                                                                                                                                                                                                                                                                                                                                                                                                                                                                                                                                                                                                                                            [tara, note, documentation, approval, grant, execute, ids, west, cash, traders, thank, help, phillip]        2\n294                                     [request, steve, kean]                                                                                                                                                                                                                                                                                                                                                                                                                                                                                                                                                                                                                                                                                                                                                            [alan, receive, update, number, keith, holst, call, receive, phillip]        2\n295                                     [request, steve, kean]       [, forward, phillip, k, allenhouect, 04302001, 1121, alan, comnes, 04272001, 0138, pm, phillip, k, allenhouectect, cc, joe, hartsoecorpenronenron, subject, request, steve, kean, phillip, get, request, gas, side, think, keanlay, need, update, table, prepare, months, ago, ive, attach, oblige, thank, alan, comnes, forward, alan, comnespdxect, 04272001, 0142, pm, janel, guerreroenron, 04272001, 1244, pm, alan, comnespdxectect, jeff, dasovichnaenronenron, cc, paul, kaufmanpdxectect, richard, shapironaenronenron, subject, request, steve, kean, alan, steve, ask, update, power, point, reflect, stupid, regulatorylegislative, decisions, since, begin, year, ken, want, update, chart, brief, book, next, weeks, ken, lay, tour, ca, also, want, forward, price, curve, gas, power, ca, get, three, ...]        2\n296                                     [request, steve, kean]       [, forward, phillip, k, allenhouect, 04302001, 1036, alan, comnes, 04272001, 0138, pm, phillip, k, allenhouectect, cc, joe, hartsoecorpenronenron, subject, request, steve, kean, phillip, get, request, gas, side, think, keanlay, need, update, table, prepare, months, ago, ive, attach, oblige, thank, alan, comnes, forward, alan, comnespdxect, 04272001, 0142, pm, janel, guerreroenron, 04272001, 1244, pm, alan, comnespdxectect, jeff, dasovichnaenronenron, cc, paul, kaufmanpdxectect, richard, shapironaenronenron, subject, request, steve, kean, alan, steve, ask, update, power, point, reflect, stupid, regulatorylegislative, decisions, since, begin, year, ken, want, update, chart, brief, book, next, weeks, ken, lay, tour, ca, also, want, forward, price, curve, gas, power, ca, get, three, ...]        2\n372  [approval, overdue, access, request, mikegrigsbyenroncom]                                                                                                                                                                                                                                                                                           [ina, help, approve, request, phillip, forward, phillip, k, allenhouect, 03192001, 0953, arsystem, arsystemmailmanenroncom, 03162001, 051512, pm, phillipkallenenroncom, phillipkallenenroncom, cc, subject, approval, overdue, access, request, mikegrigsbyenroncom, request, pending, approval, 9, days, please, click, approval, review, act, upon, request, request, id, 000000000021442, request, create, date, 3201, 82700, request, mikegrigsbyenroncom, resource, name, market, data, bloomberg, resource, type, applications]        2\n419                   [new, generation, report, january, 2001]                                                                                                                                                   [, forward, phillip, k, allenhouect, 02232001, 1117, jeffrey, oh, 02022001, 0851, phillip, k, allenhouectect, julie, gomezhouectect, tim, beldenhouectect, robert, badeerhouectect, matt, motleypdxectect, mike, swerzbinhouectect, jim, gilbertpdxectect, david, parquetsfectect, ccalgerenroncom, jim, buerklepdxectect, elliot, mainzerpdxectect, jeffrey, ohpdxectect, todd, perrypdxectect, laird, dyersfectect, michael, mcdonaldsfectect, ed, clarkpdxectect, dave, fullerpdxectect, alan, comnespdxectect, michael, etringerhouectect, john, malowneyhouectect, stewart, rosmanhouectect, jeff, shieldspdxectect, cc, subject, new, generation, report, january, 2001]        2\n486                                [cpuc, post, audit, report]  [, forward, phillip, k, allenhouect, 01302001, 1121, susan, j, maraenron, 01302001, 0914, alan, comnespdxectect, angela, schwarzhoueesees, beverly, adenhoueesees, bill, votawhoueesees, brenda, barredahoueesees, carol, moffetthoueesees, cathy, corbinhoueesees, chris, h, fosterhouectect, christina, liscanohoueesees, christopher, f, calgerpdxectect, craig, h, sutterhoueesees, dan, leffhoueesees, debora, whiteheadhoueesees, dennis, benevideshoueesees, blackhoueesees, dorothy, youngbloodhouectect, douglas, huthhoueesees, edward, sackscorpenronenron, eric, melvinhoueesees, erika, duprehoueesees, evan, hugheshoueesees, fran, deltorohoueesees, frank, w, vickershouectect, gayle, w, muenchhoueesees, ginger, dernehlnaenronenron, gordon, savagehoueesees, harold, g, buchananhoueesees, harry, kinger...        2"
      ]
     },
     "execution_count": 60,
     "metadata": {},
     "output_type": "execute_result"
    }
   ],
   "source": [
    "dfEmail[dfEmail['cluster'] == 2].head(20)"
   ]
  },
  {
   "cell_type": "code",
   "execution_count": 61,
   "metadata": {
    "trusted": true
   },
   "outputs": [
    {
     "data": {
      "text/html": [
       "<div>\n<style scoped>\n    .dataframe tbody tr th:only-of-type {\n        vertical-align: middle;\n    }\n\n    .dataframe tbody tr th {\n        vertical-align: top;\n    }\n\n    .dataframe thead th {\n        text-align: right;\n    }\n</style>\n<table border=\"1\" class=\"dataframe\">\n  <thead>\n    <tr style=\"text-align: right;\">\n      <th></th>\n      <th>Subject</th>\n      <th>content</th>\n      <th>cluster</th>\n    </tr>\n  </thead>\n  <tbody>\n    <tr>\n      <th>7</th>\n      <td>[prc, review, phone, call]</td>\n      <td>[morning, 10, 1130]</td>\n      <td>6</td>\n    </tr>\n    <tr>\n      <th>283</th>\n      <td>[western, wholesale, activities, gas, power, conf, call]</td>\n      <td>[guy, coordinate, make, sure, someone, listen, conference, call, week, tara, fundamental, group, record, call, happen, every, day, phillip, forward, phillip, k, allenhouect, 05072001, 0726, jam, steffesenron, 05032001, 0544, phillip, k, allenhouectect, cc, subject, western, wholesale, activities, gas, power, conf, call, privilege, confidential, communication, attorneyclient, communication, attorney, work, product, privilege, assert, please, forward, anyone, team, want, update, western, wholesale, matter, also, give, opportunity, raise, state, matter, want, discuss, jim, forward, jam, steffesnaenron, 05032001, 0742, ray, alvarez, 05022001, 0540, pm, steve, waltonhouectect, susan, j, maranaenronenron, alan, comnespdxectect, leslie, lawnernaenronenron, rebecca, w, cantrellhouectect, donna...</td>\n      <td>6</td>\n    </tr>\n    <tr>\n      <th>285</th>\n      <td>[western, wholesale, activities, gas, power, conf, call]</td>\n      <td>[, forward, phillip, k, allenhouect, 05042001, 1015, jam, steffesenron, 05032001, 0544, phillip, k, allenhouectect, cc, subject, western, wholesale, activities, gas, power, conf, call, privilege, confidential, communication, attorneyclient, communication, attorney, work, product, privilege, assert, please, forward, anyone, team, want, update, western, wholesale, matter, also, give, opportunity, raise, state, matter, want, discuss, jim, forward, jam, steffesnaenron, 05032001, 0742, ray, alvarez, 05022001, 0540, pm, steve, waltonhouectect, susan, j, maranaenronenron, alan, comnespdxectect, leslie, lawnernaenronenron, rebecca, w, cantrellhouectect, donna, fultoncorpenronenron, jeff, dasovichnaenronenron, christi, l, nicolayhouectect, jam, steffesnaenronenron, jalexandergibbsbrunscom, phil...</td>\n      <td>6</td>\n    </tr>\n    <tr>\n      <th>426</th>\n      <td>[daily, california, call, move, weekly, call]</td>\n      <td>[, forward, phillip, k, allenhouect, 02212001, 0336, pm, jam, steffesenron, 02212001, 1207, pm, cst, alan, comnespdxectect, chris, h, fosterhouectect, christian, yoderhouectect, christopher, f, calgerpdxectect, dan, leffhoueesees, david, w, delaineyhouectect, dennis, benevideshoueesees, blackhoueesees, elizabeth, sagerhouectect, elizabeth, tilneyhoueesees, eric, thodecorpenronenron, gordon, savagehoueesees, greg, wolfehouectect, harry, kingerskinaenronenron, jubran, whalanhoueesees, jeff, dasovichnaenronenron, jeffrey, hodgehouectect, joe, hartsoecorpenronenron, john, j, lavoratocorpenronenron, john, kathryn, corballycorpenronenron, keith, holsthouectect, kristin, walshhouectect, leslie, lawnernaenronenron, linda, robertsonnaenronenron, louise, kitchenhouectect, marcia, lintonnaenronen...</td>\n      <td>6</td>\n    </tr>\n    <tr>\n      <th>552</th>\n      <td>[call, saturday]</td>\n      <td>[larry, 10, tomorrow, good, want, email, anything, tonight, please, use, pallen70hotmailcom, phillip]</td>\n      <td>6</td>\n    </tr>\n    <tr>\n      <th>567</th>\n      <td>[western, wholesale, activities, gas, power, conf, call, privilege, confidential, communication, attorneyclient, communication, attorney, work, product, privilege, assert]</td>\n      <td>[guy, coordinate, make, sure, someone, listen, conference, call, week, tara, fundamental, group, record, call, happen, every, day, phillip, forward, phillip, k, allenhouect, 05072001, 0726, jam, steffesenron, 05032001, 0544, phillip, k, allenhouectect, cc, subject, western, wholesale, activities, gas, power, conf, call, privilege, confidential, communication, attorneyclient, communication, attorney, work, product, privilege, assert, please, forward, anyone, team, want, update, western, wholesale, matter, also, give, opportunity, raise, state, matter, want, discuss, jim, forward, jam, steffesnaenron, 05032001, 0742, ray, alvarez, 05022001, 0540, pm, steve, waltonhouectect, susan, j, maranaenronenron, alan, comnespdxectect, leslie, lawnernaenronenron, rebecca, w, cantrellhouectect, donna...</td>\n      <td>6</td>\n    </tr>\n    <tr>\n      <th>591</th>\n      <td>[western, wholesale, activities, gas, power, conf, call, privilege, confidential, communication, attorneyclient, communication, attorney, work, product, privilege, assert]</td>\n      <td>[, forward, phillip, k, allenhouect, 05042001, 1015, jam, steffesenron, 05032001, 0544, phillip, k, allenhouectect, cc, subject, western, wholesale, activities, gas, power, conf, call, privilege, confidential, communication, attorneyclient, communication, attorney, work, product, privilege, assert, please, forward, anyone, team, want, update, western, wholesale, matter, also, give, opportunity, raise, state, matter, want, discuss, jim, forward, jam, steffesnaenron, 05032001, 0742, ray, alvarez, 05022001, 0540, pm, steve, waltonhouectect, susan, j, maranaenronenron, alan, comnespdxectect, leslie, lawnernaenronenron, rebecca, w, cantrellhouectect, donna, fultoncorpenronenron, jeff, dasovichnaenronenron, christi, l, nicolayhouectect, jam, steffesnaenronenron, jalexandergibbsbrunscom, phil...</td>\n      <td>6</td>\n    </tr>\n    <tr>\n      <th>895</th>\n      <td>[western, wholesale, activities, gas, power, conf, call]</td>\n      <td>[guy, coordinate, make, sure, someone, listen, conference, call, week, tara, fundamental, group, record, call, happen, every, day, phillip, forward, phillip, k, allenhouect, 05072001, 0726, jam, steffesenron, 05032001, 0544, phillip, k, allenhouectect, cc, subject, western, wholesale, activities, gas, power, conf, call, privilege, confidential, communication, attorneyclient, communication, attorney, work, product, privilege, assert, please, forward, anyone, team, want, update, western, wholesale, matter, also, give, opportunity, raise, state, matter, want, discuss, jim, forward, jam, steffesnaenron, 05032001, 0742, ray, alvarez, 05022001, 0540, pm, steve, waltonhouectect, susan, j, maranaenronenron, alan, comnespdxectect, leslie, lawnernaenronenron, rebecca, w, cantrellhouectect, donna...</td>\n      <td>6</td>\n    </tr>\n    <tr>\n      <th>898</th>\n      <td>[western, wholesale, activities, gas, power, conf, call]</td>\n      <td>[, forward, phillip, k, allenhouect, 05042001, 1015, jam, steffesenron, 05032001, 0544, phillip, k, allenhouectect, cc, subject, western, wholesale, activities, gas, power, conf, call, privilege, confidential, communication, attorneyclient, communication, attorney, work, product, privilege, assert, please, forward, anyone, team, want, update, western, wholesale, matter, also, give, opportunity, raise, state, matter, want, discuss, jim, forward, jam, steffesnaenron, 05032001, 0742, ray, alvarez, 05022001, 0540, pm, steve, waltonhouectect, susan, j, maranaenronenron, alan, comnespdxectect, leslie, lawnernaenronenron, rebecca, w, cantrellhouectect, donna, fultoncorpenronenron, jeff, dasovichnaenronenron, christi, l, nicolayhouectect, jam, steffesnaenronenron, jalexandergibbsbrunscom, phil...</td>\n      <td>6</td>\n    </tr>\n    <tr>\n      <th>1049</th>\n      <td>[daily, california, call, move, weekly, call]</td>\n      <td>[, forward, phillip, k, allenhouect, 02212001, 0336, pm, jam, steffesenron, 02212001, 1207, pm, cst, alan, comnespdxectect, chris, h, fosterhouectect, christian, yoderhouectect, christopher, f, calgerpdxectect, dan, leffhoueesees, david, w, delaineyhouectect, dennis, benevideshoueesees, blackhoueesees, elizabeth, sagerhouectect, elizabeth, tilneyhoueesees, eric, thodecorpenronenron, gordon, savagehoueesees, greg, wolfehouectect, harry, kingerskinaenronenron, jubran, whalanhoueesees, jeff, dasovichnaenronenron, jeffrey, hodgehouectect, joe, hartsoecorpenronenron, john, j, lavoratocorpenronenron, john, kathryn, corballycorpenronenron, keith, holsthouectect, kristin, walshhouectect, leslie, lawnernaenronenron, linda, robertsonnaenronenron, louise, kitchenhouectect, marcia, lintonnaenronen...</td>\n      <td>6</td>\n    </tr>\n    <tr>\n      <th>1176</th>\n      <td>[call, saturday]</td>\n      <td>[larry, 10, tomorrow, good, want, email, anything, tonight, please, use, pallen70hotmailcom, phillip]</td>\n      <td>6</td>\n    </tr>\n    <tr>\n      <th>1213</th>\n      <td>[prc, review, phone, call]</td>\n      <td>[morning, 10, 1130]</td>\n      <td>6</td>\n    </tr>\n    <tr>\n      <th>1237</th>\n      <td>[conference, call, today, ferc, staff]</td>\n      <td>[conference, call, hold, today, ferc, staffers, discuss, items, interest, concern, us, participate, ferc, bob, pease, enforcement, atty, stuart, fisher, economist, bruce, poole, engineer, alan, comnes, dave, perrino, weigh, enron, laundry, list, topics, discuss, attach, express, sentiment, root, cause, issue, concern, current, composition, nonindependence, iso, board, suggest, iso, board, situation, subject, upcoming, ferc, audit, iso, go, discuss, audit, fact, establish, formal, comment, process, however, invite, file, write, comment, commission, think, audit, alan, take, lead, try, get, others, sign, comment, discussion, items, staff, highly, interest, include, iso, request, bid, us, prop, price, staff, request, copy, transcript, unexplained, decrease, atc, staff, ask, advise, ...]</td>\n      <td>6</td>\n    </tr>\n    <tr>\n      <th>1391</th>\n      <td>[solicitation, call]</td>\n      <td>[trade, press, recruit, firm, others, recently, make, numerous, call, enron, employees, seek, information, company, employees, matter, case, callers, use, false, identities, im, sec, need, provide, receive, call, someone, identify, part, government, organization, please, refer, caller, legal, department, please, refer, call, trade, press, media, inquiries, public, relations, group, otherwise, please, treat, enron, information, confidential, thank]</td>\n      <td>6</td>\n    </tr>\n    <tr>\n      <th>1841</th>\n      <td>[daily, california, call, move, weekly, call]</td>\n      <td>[, forward, phillip, k, allenhouect, 02212001, 0336, pm, jam, steffesenron, 02212001, 1207, pm, cst, alan, comnespdxectect, chris, h, fosterhouectect, christian, yoderhouectect, christopher, f, calgerpdxectect, dan, leffhoueesees, david, w, delaineyhouectect, dennis, benevideshoueesees, blackhoueesees, elizabeth, sagerhouectect, elizabeth, tilneyhoueesees, eric, thodecorpenronenron, gordon, savagehoueesees, greg, wolfehouectect, harry, kingerskinaenronenron, jubran, whalanhoueesees, jeff, dasovichnaenronenron, jeffrey, hodgehouectect, joe, hartsoecorpenronenron, john, j, lavoratocorpenronenron, john, kathryn, corballycorpenronenron, keith, holsthouectect, kristin, walshhouectect, leslie, lawnernaenronenron, linda, robertsonnaenronenron, louise, kitchenhouectect, marcia, lintonnaenronen...</td>\n      <td>6</td>\n    </tr>\n    <tr>\n      <th>1939</th>\n      <td>[western, wholesale, activities, gas, power, conf, call]</td>\n      <td>[, forward, phillip, k, allenhouect, 05042001, 1015, jam, steffesenron, 05032001, 0544, phillip, k, allenhouectect, cc, subject, western, wholesale, activities, gas, power, conf, call, privilege, confidential, communication, attorneyclient, communication, attorney, work, product, privilege, assert, please, forward, anyone, team, want, update, western, wholesale, matter, also, give, opportunity, raise, state, matter, want, discuss, jim, forward, jam, steffesnaenron, 05032001, 0742, ray, alvarez, 05022001, 0540, pm, steve, waltonhouectect, susan, j, maranaenronenron, alan, comnespdxectect, leslie, lawnernaenronenron, rebecca, w, cantrellhouectect, donna, fultoncorpenronenron, jeff, dasovichnaenronenron, christi, l, nicolayhouectect, jam, steffesnaenronenron, jalexandergibbsbrunscom, phil...</td>\n      <td>6</td>\n    </tr>\n    <tr>\n      <th>1942</th>\n      <td>[western, wholesale, activities, gas, power, conf, call]</td>\n      <td>[guy, coordinate, make, sure, someone, listen, conference, call, week, tara, fundamental, group, record, call, happen, every, day, phillip, forward, phillip, k, allenhouect, 05072001, 0726, jam, steffesenron, 05032001, 0544, phillip, k, allenhouectect, cc, subject, western, wholesale, activities, gas, power, conf, call, privilege, confidential, communication, attorneyclient, communication, attorney, work, product, privilege, assert, please, forward, anyone, team, want, update, western, wholesale, matter, also, give, opportunity, raise, state, matter, want, discuss, jim, forward, jam, steffesnaenron, 05032001, 0742, ray, alvarez, 05022001, 0540, pm, steve, waltonhouectect, susan, j, maranaenronenron, alan, comnespdxectect, leslie, lawnernaenronenron, rebecca, w, cantrellhouectect, donna...</td>\n      <td>6</td>\n    </tr>\n    <tr>\n      <th>2139</th>\n      <td>[fw, western, wholesale, activities, gas, power, conf, call, privilege, confidential, communication, attorneyclient, communication, attorney, work, product, privilege, assert]</td>\n      <td>[original, message, hawkins, bernadette, send, wednesday, june, 20, 2001, 959, walton, steve, mara, susan, comnes, alan, lawner, leslie, cantrell, rebecca, fulton, donna, dasovich, jeff, nicolay, christi, steffes, jam, jalexandergibbsbrunscom, allen, phillip, k, noske, linda, perrino, dave, black, frank, robert, miller, stephanie, tycholiz, barry, cc, lindanoskeenroncom, alamo, joseph, subject, western, wholesale, activities, gas, power, conf, call, privilege, confidential, communication, attorneyclient, communication, attorney, work, product, privilege, assert, importance, high, meet, time, change, please, mark, calendar, date, every, thursday, time, 730, pacific, 930, central, 1030, eastern, time, number, 18882710949, host, code, 661877, ray, participant, code, 936022, everyone, else...</td>\n      <td>6</td>\n    </tr>\n    <tr>\n      <th>2140</th>\n      <td>[fw, western, wholesale, activities, gas, power, conf, call, privilege, confidential, communication, attorneyclient, communication, attorney, work, product, privilege, assert]</td>\n      <td>[original, message, perrino, dave, send, wednesday, june, 20, 2001, 1007, hawkins, bernadette, cc, walton, steve, mara, susan, comnes, alan, lawner, leslie, cantrell, rebecca, fulton, donna, dasovich, jeff, nicolay, christi, steffes, jam, jalexandergibbsbrunscom, allen, phillip, k, noske, linda, black, frank, robert, miller, stephanie, tycholiz, barry, lindanoskeenroncom, alamo, joseph, subject, western, wholesale, activities, gas, power, conf, call, privilege, confidential, communication, attorneyclient, communication, attorney, work, product, privilege, assert, bernadette, send, agenda, cob, today, id, like, look, tomorrow, morning, possible, thank, dave, 06202001, 0959, bernadette, hawkinsenron, bernadette, hawkinsenron, bernadette, hawkinsenron, 06202001, 0959, 06202001, 0959, stev...</td>\n      <td>6</td>\n    </tr>\n    <tr>\n      <th>2162</th>\n      <td>[fw, california, gas, intrastate, matter, july, 11, conference, call]</td>\n      <td>[original, message, buerger, rubena, send, friday, july, 06, 2001, 1154, lawner, leslie, cc, steffes, jam, cantrell, rebecca, fulton, donna, miller, stephanie, dasovich, jeff, ponce, roger, courtney, mark, sharp, greg, castano, marianne, donald, blackenronenronxgate, allen, phillip, k, kingerski, harry, kaufman, paul, blackees, mailtoblackees, hewitt, jess, subject, california, gas, intrastate, matter, july, 11, conference, call, information, conference, call, wednesday, july, 11, 100, 200, pm, central, time, dialin, number, 8004862460, participant, code, 675923, host, code, lawner, 263406, leslie, need, assistance, call, please, press, 0, leslie, lawnerenron, mailtolawnerenron, 07062001, 0932, jam, steffesnaenronenron, rebecca, w, cantrellhouectect, donna, fultoncorpenronenron, stepha...</td>\n      <td>6</td>\n    </tr>\n  </tbody>\n</table>\n</div>"
      ],
      "text/plain": [
       "                                                                                                                                                                              Subject                                                                                                                                                                                                                                                                                                                                                                                                                                                                                                                                                                                                                                                                                                                                                                                                                          content  cluster\n7                                                                                                                                                          [prc, review, phone, call]                                                                                                                                                                                                                                                                                                                                                                                                                                                                                                                                                                                                                                                                                                                                                                                                              [morning, 10, 1130]        6\n283                                                                                                                          [western, wholesale, activities, gas, power, conf, call]  [guy, coordinate, make, sure, someone, listen, conference, call, week, tara, fundamental, group, record, call, happen, every, day, phillip, forward, phillip, k, allenhouect, 05072001, 0726, jam, steffesenron, 05032001, 0544, phillip, k, allenhouectect, cc, subject, western, wholesale, activities, gas, power, conf, call, privilege, confidential, communication, attorneyclient, communication, attorney, work, product, privilege, assert, please, forward, anyone, team, want, update, western, wholesale, matter, also, give, opportunity, raise, state, matter, want, discuss, jim, forward, jam, steffesnaenron, 05032001, 0742, ray, alvarez, 05022001, 0540, pm, steve, waltonhouectect, susan, j, maranaenronenron, alan, comnespdxectect, leslie, lawnernaenronenron, rebecca, w, cantrellhouectect, donna...        6\n285                                                                                                                          [western, wholesale, activities, gas, power, conf, call]  [, forward, phillip, k, allenhouect, 05042001, 1015, jam, steffesenron, 05032001, 0544, phillip, k, allenhouectect, cc, subject, western, wholesale, activities, gas, power, conf, call, privilege, confidential, communication, attorneyclient, communication, attorney, work, product, privilege, assert, please, forward, anyone, team, want, update, western, wholesale, matter, also, give, opportunity, raise, state, matter, want, discuss, jim, forward, jam, steffesnaenron, 05032001, 0742, ray, alvarez, 05022001, 0540, pm, steve, waltonhouectect, susan, j, maranaenronenron, alan, comnespdxectect, leslie, lawnernaenronenron, rebecca, w, cantrellhouectect, donna, fultoncorpenronenron, jeff, dasovichnaenronenron, christi, l, nicolayhouectect, jam, steffesnaenronenron, jalexandergibbsbrunscom, phil...        6\n426                                                                                                                                     [daily, california, call, move, weekly, call]  [, forward, phillip, k, allenhouect, 02212001, 0336, pm, jam, steffesenron, 02212001, 1207, pm, cst, alan, comnespdxectect, chris, h, fosterhouectect, christian, yoderhouectect, christopher, f, calgerpdxectect, dan, leffhoueesees, david, w, delaineyhouectect, dennis, benevideshoueesees, blackhoueesees, elizabeth, sagerhouectect, elizabeth, tilneyhoueesees, eric, thodecorpenronenron, gordon, savagehoueesees, greg, wolfehouectect, harry, kingerskinaenronenron, jubran, whalanhoueesees, jeff, dasovichnaenronenron, jeffrey, hodgehouectect, joe, hartsoecorpenronenron, john, j, lavoratocorpenronenron, john, kathryn, corballycorpenronenron, keith, holsthouectect, kristin, walshhouectect, leslie, lawnernaenronenron, linda, robertsonnaenronenron, louise, kitchenhouectect, marcia, lintonnaenronen...        6\n552                                                                                                                                                                  [call, saturday]                                                                                                                                                                                                                                                                                                                                                                                                                                                                                                                                                                                                                                                                                                                            [larry, 10, tomorrow, good, want, email, anything, tonight, please, use, pallen70hotmailcom, phillip]        6\n567       [western, wholesale, activities, gas, power, conf, call, privilege, confidential, communication, attorneyclient, communication, attorney, work, product, privilege, assert]  [guy, coordinate, make, sure, someone, listen, conference, call, week, tara, fundamental, group, record, call, happen, every, day, phillip, forward, phillip, k, allenhouect, 05072001, 0726, jam, steffesenron, 05032001, 0544, phillip, k, allenhouectect, cc, subject, western, wholesale, activities, gas, power, conf, call, privilege, confidential, communication, attorneyclient, communication, attorney, work, product, privilege, assert, please, forward, anyone, team, want, update, western, wholesale, matter, also, give, opportunity, raise, state, matter, want, discuss, jim, forward, jam, steffesnaenron, 05032001, 0742, ray, alvarez, 05022001, 0540, pm, steve, waltonhouectect, susan, j, maranaenronenron, alan, comnespdxectect, leslie, lawnernaenronenron, rebecca, w, cantrellhouectect, donna...        6\n591       [western, wholesale, activities, gas, power, conf, call, privilege, confidential, communication, attorneyclient, communication, attorney, work, product, privilege, assert]  [, forward, phillip, k, allenhouect, 05042001, 1015, jam, steffesenron, 05032001, 0544, phillip, k, allenhouectect, cc, subject, western, wholesale, activities, gas, power, conf, call, privilege, confidential, communication, attorneyclient, communication, attorney, work, product, privilege, assert, please, forward, anyone, team, want, update, western, wholesale, matter, also, give, opportunity, raise, state, matter, want, discuss, jim, forward, jam, steffesnaenron, 05032001, 0742, ray, alvarez, 05022001, 0540, pm, steve, waltonhouectect, susan, j, maranaenronenron, alan, comnespdxectect, leslie, lawnernaenronenron, rebecca, w, cantrellhouectect, donna, fultoncorpenronenron, jeff, dasovichnaenronenron, christi, l, nicolayhouectect, jam, steffesnaenronenron, jalexandergibbsbrunscom, phil...        6\n895                                                                                                                          [western, wholesale, activities, gas, power, conf, call]  [guy, coordinate, make, sure, someone, listen, conference, call, week, tara, fundamental, group, record, call, happen, every, day, phillip, forward, phillip, k, allenhouect, 05072001, 0726, jam, steffesenron, 05032001, 0544, phillip, k, allenhouectect, cc, subject, western, wholesale, activities, gas, power, conf, call, privilege, confidential, communication, attorneyclient, communication, attorney, work, product, privilege, assert, please, forward, anyone, team, want, update, western, wholesale, matter, also, give, opportunity, raise, state, matter, want, discuss, jim, forward, jam, steffesnaenron, 05032001, 0742, ray, alvarez, 05022001, 0540, pm, steve, waltonhouectect, susan, j, maranaenronenron, alan, comnespdxectect, leslie, lawnernaenronenron, rebecca, w, cantrellhouectect, donna...        6\n898                                                                                                                          [western, wholesale, activities, gas, power, conf, call]  [, forward, phillip, k, allenhouect, 05042001, 1015, jam, steffesenron, 05032001, 0544, phillip, k, allenhouectect, cc, subject, western, wholesale, activities, gas, power, conf, call, privilege, confidential, communication, attorneyclient, communication, attorney, work, product, privilege, assert, please, forward, anyone, team, want, update, western, wholesale, matter, also, give, opportunity, raise, state, matter, want, discuss, jim, forward, jam, steffesnaenron, 05032001, 0742, ray, alvarez, 05022001, 0540, pm, steve, waltonhouectect, susan, j, maranaenronenron, alan, comnespdxectect, leslie, lawnernaenronenron, rebecca, w, cantrellhouectect, donna, fultoncorpenronenron, jeff, dasovichnaenronenron, christi, l, nicolayhouectect, jam, steffesnaenronenron, jalexandergibbsbrunscom, phil...        6\n1049                                                                                                                                    [daily, california, call, move, weekly, call]  [, forward, phillip, k, allenhouect, 02212001, 0336, pm, jam, steffesenron, 02212001, 1207, pm, cst, alan, comnespdxectect, chris, h, fosterhouectect, christian, yoderhouectect, christopher, f, calgerpdxectect, dan, leffhoueesees, david, w, delaineyhouectect, dennis, benevideshoueesees, blackhoueesees, elizabeth, sagerhouectect, elizabeth, tilneyhoueesees, eric, thodecorpenronenron, gordon, savagehoueesees, greg, wolfehouectect, harry, kingerskinaenronenron, jubran, whalanhoueesees, jeff, dasovichnaenronenron, jeffrey, hodgehouectect, joe, hartsoecorpenronenron, john, j, lavoratocorpenronenron, john, kathryn, corballycorpenronenron, keith, holsthouectect, kristin, walshhouectect, leslie, lawnernaenronenron, linda, robertsonnaenronenron, louise, kitchenhouectect, marcia, lintonnaenronen...        6\n1176                                                                                                                                                                 [call, saturday]                                                                                                                                                                                                                                                                                                                                                                                                                                                                                                                                                                                                                                                                                                                            [larry, 10, tomorrow, good, want, email, anything, tonight, please, use, pallen70hotmailcom, phillip]        6\n1213                                                                                                                                                       [prc, review, phone, call]                                                                                                                                                                                                                                                                                                                                                                                                                                                                                                                                                                                                                                                                                                                                                                                                              [morning, 10, 1130]        6\n1237                                                                                                                                           [conference, call, today, ferc, staff]       [conference, call, hold, today, ferc, staffers, discuss, items, interest, concern, us, participate, ferc, bob, pease, enforcement, atty, stuart, fisher, economist, bruce, poole, engineer, alan, comnes, dave, perrino, weigh, enron, laundry, list, topics, discuss, attach, express, sentiment, root, cause, issue, concern, current, composition, nonindependence, iso, board, suggest, iso, board, situation, subject, upcoming, ferc, audit, iso, go, discuss, audit, fact, establish, formal, comment, process, however, invite, file, write, comment, commission, think, audit, alan, take, lead, try, get, others, sign, comment, discussion, items, staff, highly, interest, include, iso, request, bid, us, prop, price, staff, request, copy, transcript, unexplained, decrease, atc, staff, ask, advise, ...]        6\n1391                                                                                                                                                             [solicitation, call]                                                                                                                                                                                                                                                                                                                                                              [trade, press, recruit, firm, others, recently, make, numerous, call, enron, employees, seek, information, company, employees, matter, case, callers, use, false, identities, im, sec, need, provide, receive, call, someone, identify, part, government, organization, please, refer, caller, legal, department, please, refer, call, trade, press, media, inquiries, public, relations, group, otherwise, please, treat, enron, information, confidential, thank]        6\n1841                                                                                                                                    [daily, california, call, move, weekly, call]  [, forward, phillip, k, allenhouect, 02212001, 0336, pm, jam, steffesenron, 02212001, 1207, pm, cst, alan, comnespdxectect, chris, h, fosterhouectect, christian, yoderhouectect, christopher, f, calgerpdxectect, dan, leffhoueesees, david, w, delaineyhouectect, dennis, benevideshoueesees, blackhoueesees, elizabeth, sagerhouectect, elizabeth, tilneyhoueesees, eric, thodecorpenronenron, gordon, savagehoueesees, greg, wolfehouectect, harry, kingerskinaenronenron, jubran, whalanhoueesees, jeff, dasovichnaenronenron, jeffrey, hodgehouectect, joe, hartsoecorpenronenron, john, j, lavoratocorpenronenron, john, kathryn, corballycorpenronenron, keith, holsthouectect, kristin, walshhouectect, leslie, lawnernaenronenron, linda, robertsonnaenronenron, louise, kitchenhouectect, marcia, lintonnaenronen...        6\n1939                                                                                                                         [western, wholesale, activities, gas, power, conf, call]  [, forward, phillip, k, allenhouect, 05042001, 1015, jam, steffesenron, 05032001, 0544, phillip, k, allenhouectect, cc, subject, western, wholesale, activities, gas, power, conf, call, privilege, confidential, communication, attorneyclient, communication, attorney, work, product, privilege, assert, please, forward, anyone, team, want, update, western, wholesale, matter, also, give, opportunity, raise, state, matter, want, discuss, jim, forward, jam, steffesnaenron, 05032001, 0742, ray, alvarez, 05022001, 0540, pm, steve, waltonhouectect, susan, j, maranaenronenron, alan, comnespdxectect, leslie, lawnernaenronenron, rebecca, w, cantrellhouectect, donna, fultoncorpenronenron, jeff, dasovichnaenronenron, christi, l, nicolayhouectect, jam, steffesnaenronenron, jalexandergibbsbrunscom, phil...        6\n1942                                                                                                                         [western, wholesale, activities, gas, power, conf, call]  [guy, coordinate, make, sure, someone, listen, conference, call, week, tara, fundamental, group, record, call, happen, every, day, phillip, forward, phillip, k, allenhouect, 05072001, 0726, jam, steffesenron, 05032001, 0544, phillip, k, allenhouectect, cc, subject, western, wholesale, activities, gas, power, conf, call, privilege, confidential, communication, attorneyclient, communication, attorney, work, product, privilege, assert, please, forward, anyone, team, want, update, western, wholesale, matter, also, give, opportunity, raise, state, matter, want, discuss, jim, forward, jam, steffesnaenron, 05032001, 0742, ray, alvarez, 05022001, 0540, pm, steve, waltonhouectect, susan, j, maranaenronenron, alan, comnespdxectect, leslie, lawnernaenronenron, rebecca, w, cantrellhouectect, donna...        6\n2139  [fw, western, wholesale, activities, gas, power, conf, call, privilege, confidential, communication, attorneyclient, communication, attorney, work, product, privilege, assert]  [original, message, hawkins, bernadette, send, wednesday, june, 20, 2001, 959, walton, steve, mara, susan, comnes, alan, lawner, leslie, cantrell, rebecca, fulton, donna, dasovich, jeff, nicolay, christi, steffes, jam, jalexandergibbsbrunscom, allen, phillip, k, noske, linda, perrino, dave, black, frank, robert, miller, stephanie, tycholiz, barry, cc, lindanoskeenroncom, alamo, joseph, subject, western, wholesale, activities, gas, power, conf, call, privilege, confidential, communication, attorneyclient, communication, attorney, work, product, privilege, assert, importance, high, meet, time, change, please, mark, calendar, date, every, thursday, time, 730, pacific, 930, central, 1030, eastern, time, number, 18882710949, host, code, 661877, ray, participant, code, 936022, everyone, else...        6\n2140  [fw, western, wholesale, activities, gas, power, conf, call, privilege, confidential, communication, attorneyclient, communication, attorney, work, product, privilege, assert]  [original, message, perrino, dave, send, wednesday, june, 20, 2001, 1007, hawkins, bernadette, cc, walton, steve, mara, susan, comnes, alan, lawner, leslie, cantrell, rebecca, fulton, donna, dasovich, jeff, nicolay, christi, steffes, jam, jalexandergibbsbrunscom, allen, phillip, k, noske, linda, black, frank, robert, miller, stephanie, tycholiz, barry, lindanoskeenroncom, alamo, joseph, subject, western, wholesale, activities, gas, power, conf, call, privilege, confidential, communication, attorneyclient, communication, attorney, work, product, privilege, assert, bernadette, send, agenda, cob, today, id, like, look, tomorrow, morning, possible, thank, dave, 06202001, 0959, bernadette, hawkinsenron, bernadette, hawkinsenron, bernadette, hawkinsenron, 06202001, 0959, 06202001, 0959, stev...        6\n2162                                                                                                            [fw, california, gas, intrastate, matter, july, 11, conference, call]  [original, message, buerger, rubena, send, friday, july, 06, 2001, 1154, lawner, leslie, cc, steffes, jam, cantrell, rebecca, fulton, donna, miller, stephanie, dasovich, jeff, ponce, roger, courtney, mark, sharp, greg, castano, marianne, donald, blackenronenronxgate, allen, phillip, k, kingerski, harry, kaufman, paul, blackees, mailtoblackees, hewitt, jess, subject, california, gas, intrastate, matter, july, 11, conference, call, information, conference, call, wednesday, july, 11, 100, 200, pm, central, time, dialin, number, 8004862460, participant, code, 675923, host, code, lawner, 263406, leslie, need, assistance, call, please, press, 0, leslie, lawnerenron, mailtolawnerenron, 07062001, 0932, jam, steffesnaenronenron, rebecca, w, cantrellhouectect, donna, fultoncorpenronenron, stepha...        6"
      ]
     },
     "execution_count": 61,
     "metadata": {},
     "output_type": "execute_result"
    }
   ],
   "source": [
    "dfEmail[dfEmail['cluster'] == 6].head(20)"
   ]
  },
  {
   "cell_type": "code",
   "execution_count": null,
   "metadata": {
    "trusted": true
   },
   "outputs": [],
   "source": [
    ""
   ]
  }
 ],
 "metadata": {
  "kernelspec": {
   "name": "python3",
   "display_name": "Python 3",
   "language": "python"
  },
  "language_info": {
   "name": "python",
   "version": "3.7.6",
   "mimetype": "text/x-python",
   "codemirror_mode": {
    "name": "ipython",
    "version": 3
   },
   "pygments_lexer": "ipython3",
   "nbconvert_exporter": "python",
   "file_extension": ".py"
  }
 },
 "nbformat": 4,
 "nbformat_minor": 4
}
